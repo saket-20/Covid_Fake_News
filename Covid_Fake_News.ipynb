{
  "nbformat": 4,
  "nbformat_minor": 0,
  "metadata": {
    "colab": {
      "name": "Covid_Fake_News.ipynb",
      "provenance": [],
      "collapsed_sections": [],
      "authorship_tag": "ABX9TyM8rISIDuABi9SscDQUA/Ed"
    },
    "kernelspec": {
      "name": "python3",
      "display_name": "Python 3"
    },
    "language_info": {
      "name": "python"
    }
  },
  "cells": [
    {
      "cell_type": "code",
      "metadata": {
        "id": "FB7d6VB6vdhf"
      },
      "source": [
        "URL1=\"https://raw.githubusercontent.com/saket-20/Data/main/Constraint_Test.csv\"\n",
        "URL2=\"https://raw.githubusercontent.com/saket-20/Data/main/Constraint_Train.csv\"\n",
        "URL3=\"https://github.com/saket-20/Data/blob/main/Constraint_Val.csv\"\n",
        "URL4=\"https://raw.githubusercontent.com/saket-20/Data/main/english_test_with_labels.csv\""
      ],
      "execution_count": null,
      "outputs": []
    },
    {
      "cell_type": "code",
      "metadata": {
        "id": "QiBom0BWwFsf"
      },
      "source": [
        "import pandas as pd\n",
        "import numpy as np"
      ],
      "execution_count": null,
      "outputs": []
    },
    {
      "cell_type": "code",
      "metadata": {
        "id": "6hnzidpwwkhT"
      },
      "source": [
        "train=pd.read_csv(URL2,delimiter=\",\") "
      ],
      "execution_count": null,
      "outputs": []
    },
    {
      "cell_type": "code",
      "metadata": {
        "id": "SZq0AnezxkML",
        "colab": {
          "base_uri": "https://localhost:8080/",
          "height": 417
        },
        "outputId": "085c23e1-a328-4402-b4fe-1d3fe4caf90f"
      },
      "source": [
        "train"
      ],
      "execution_count": null,
      "outputs": [
        {
          "output_type": "execute_result",
          "data": {
            "text/html": [
              "<div>\n",
              "<style scoped>\n",
              "    .dataframe tbody tr th:only-of-type {\n",
              "        vertical-align: middle;\n",
              "    }\n",
              "\n",
              "    .dataframe tbody tr th {\n",
              "        vertical-align: top;\n",
              "    }\n",
              "\n",
              "    .dataframe thead th {\n",
              "        text-align: right;\n",
              "    }\n",
              "</style>\n",
              "<table border=\"1\" class=\"dataframe\">\n",
              "  <thead>\n",
              "    <tr style=\"text-align: right;\">\n",
              "      <th></th>\n",
              "      <th>id</th>\n",
              "      <th>tweet</th>\n",
              "      <th>label</th>\n",
              "    </tr>\n",
              "  </thead>\n",
              "  <tbody>\n",
              "    <tr>\n",
              "      <th>0</th>\n",
              "      <td>1</td>\n",
              "      <td>The CDC currently reports 99031 deaths. In gen...</td>\n",
              "      <td>real</td>\n",
              "    </tr>\n",
              "    <tr>\n",
              "      <th>1</th>\n",
              "      <td>2</td>\n",
              "      <td>States reported 1121 deaths a small rise from ...</td>\n",
              "      <td>real</td>\n",
              "    </tr>\n",
              "    <tr>\n",
              "      <th>2</th>\n",
              "      <td>3</td>\n",
              "      <td>Politically Correct Woman (Almost) Uses Pandem...</td>\n",
              "      <td>fake</td>\n",
              "    </tr>\n",
              "    <tr>\n",
              "      <th>3</th>\n",
              "      <td>4</td>\n",
              "      <td>#IndiaFightsCorona: We have 1524 #COVID testin...</td>\n",
              "      <td>real</td>\n",
              "    </tr>\n",
              "    <tr>\n",
              "      <th>4</th>\n",
              "      <td>5</td>\n",
              "      <td>Populous states can generate large case counts...</td>\n",
              "      <td>real</td>\n",
              "    </tr>\n",
              "    <tr>\n",
              "      <th>...</th>\n",
              "      <td>...</td>\n",
              "      <td>...</td>\n",
              "      <td>...</td>\n",
              "    </tr>\n",
              "    <tr>\n",
              "      <th>6415</th>\n",
              "      <td>6416</td>\n",
              "      <td>A tiger tested positive for COVID-19 please st...</td>\n",
              "      <td>fake</td>\n",
              "    </tr>\n",
              "    <tr>\n",
              "      <th>6416</th>\n",
              "      <td>6417</td>\n",
              "      <td>???Autopsies prove that COVID-19 is??� a blood...</td>\n",
              "      <td>fake</td>\n",
              "    </tr>\n",
              "    <tr>\n",
              "      <th>6417</th>\n",
              "      <td>6418</td>\n",
              "      <td>_A post claims a COVID-19 vaccine has already ...</td>\n",
              "      <td>fake</td>\n",
              "    </tr>\n",
              "    <tr>\n",
              "      <th>6418</th>\n",
              "      <td>6419</td>\n",
              "      <td>Aamir Khan Donate 250 Cr. In PM Relief Cares Fund</td>\n",
              "      <td>fake</td>\n",
              "    </tr>\n",
              "    <tr>\n",
              "      <th>6419</th>\n",
              "      <td>6420</td>\n",
              "      <td>It has been 93 days since the last case of COV...</td>\n",
              "      <td>real</td>\n",
              "    </tr>\n",
              "  </tbody>\n",
              "</table>\n",
              "<p>6420 rows × 3 columns</p>\n",
              "</div>"
            ],
            "text/plain": [
              "        id                                              tweet label\n",
              "0        1  The CDC currently reports 99031 deaths. In gen...  real\n",
              "1        2  States reported 1121 deaths a small rise from ...  real\n",
              "2        3  Politically Correct Woman (Almost) Uses Pandem...  fake\n",
              "3        4  #IndiaFightsCorona: We have 1524 #COVID testin...  real\n",
              "4        5  Populous states can generate large case counts...  real\n",
              "...    ...                                                ...   ...\n",
              "6415  6416  A tiger tested positive for COVID-19 please st...  fake\n",
              "6416  6417  ???Autopsies prove that COVID-19 is??� a blood...  fake\n",
              "6417  6418  _A post claims a COVID-19 vaccine has already ...  fake\n",
              "6418  6419  Aamir Khan Donate 250 Cr. In PM Relief Cares Fund  fake\n",
              "6419  6420  It has been 93 days since the last case of COV...  real\n",
              "\n",
              "[6420 rows x 3 columns]"
            ]
          },
          "metadata": {
            "tags": []
          },
          "execution_count": 7
        }
      ]
    },
    {
      "cell_type": "code",
      "metadata": {
        "id": "hLHPhyxmxlPE"
      },
      "source": [
        "train['label'].replace({'real': 1, 'fake': 0},inplace=True)"
      ],
      "execution_count": null,
      "outputs": []
    },
    {
      "cell_type": "code",
      "metadata": {
        "id": "u0kFu9dlyTPl",
        "colab": {
          "base_uri": "https://localhost:8080/",
          "height": 417
        },
        "outputId": "5f70e22f-2049-44b5-e23a-7753bbcdf5ff"
      },
      "source": [
        "train"
      ],
      "execution_count": null,
      "outputs": [
        {
          "output_type": "execute_result",
          "data": {
            "text/html": [
              "<div>\n",
              "<style scoped>\n",
              "    .dataframe tbody tr th:only-of-type {\n",
              "        vertical-align: middle;\n",
              "    }\n",
              "\n",
              "    .dataframe tbody tr th {\n",
              "        vertical-align: top;\n",
              "    }\n",
              "\n",
              "    .dataframe thead th {\n",
              "        text-align: right;\n",
              "    }\n",
              "</style>\n",
              "<table border=\"1\" class=\"dataframe\">\n",
              "  <thead>\n",
              "    <tr style=\"text-align: right;\">\n",
              "      <th></th>\n",
              "      <th>id</th>\n",
              "      <th>tweet</th>\n",
              "      <th>label</th>\n",
              "    </tr>\n",
              "  </thead>\n",
              "  <tbody>\n",
              "    <tr>\n",
              "      <th>0</th>\n",
              "      <td>1</td>\n",
              "      <td>The CDC currently reports 99031 deaths. In gen...</td>\n",
              "      <td>1</td>\n",
              "    </tr>\n",
              "    <tr>\n",
              "      <th>1</th>\n",
              "      <td>2</td>\n",
              "      <td>States reported 1121 deaths a small rise from ...</td>\n",
              "      <td>1</td>\n",
              "    </tr>\n",
              "    <tr>\n",
              "      <th>2</th>\n",
              "      <td>3</td>\n",
              "      <td>Politically Correct Woman (Almost) Uses Pandem...</td>\n",
              "      <td>0</td>\n",
              "    </tr>\n",
              "    <tr>\n",
              "      <th>3</th>\n",
              "      <td>4</td>\n",
              "      <td>#IndiaFightsCorona: We have 1524 #COVID testin...</td>\n",
              "      <td>1</td>\n",
              "    </tr>\n",
              "    <tr>\n",
              "      <th>4</th>\n",
              "      <td>5</td>\n",
              "      <td>Populous states can generate large case counts...</td>\n",
              "      <td>1</td>\n",
              "    </tr>\n",
              "    <tr>\n",
              "      <th>...</th>\n",
              "      <td>...</td>\n",
              "      <td>...</td>\n",
              "      <td>...</td>\n",
              "    </tr>\n",
              "    <tr>\n",
              "      <th>6415</th>\n",
              "      <td>6416</td>\n",
              "      <td>A tiger tested positive for COVID-19 please st...</td>\n",
              "      <td>0</td>\n",
              "    </tr>\n",
              "    <tr>\n",
              "      <th>6416</th>\n",
              "      <td>6417</td>\n",
              "      <td>???Autopsies prove that COVID-19 is??� a blood...</td>\n",
              "      <td>0</td>\n",
              "    </tr>\n",
              "    <tr>\n",
              "      <th>6417</th>\n",
              "      <td>6418</td>\n",
              "      <td>_A post claims a COVID-19 vaccine has already ...</td>\n",
              "      <td>0</td>\n",
              "    </tr>\n",
              "    <tr>\n",
              "      <th>6418</th>\n",
              "      <td>6419</td>\n",
              "      <td>Aamir Khan Donate 250 Cr. In PM Relief Cares Fund</td>\n",
              "      <td>0</td>\n",
              "    </tr>\n",
              "    <tr>\n",
              "      <th>6419</th>\n",
              "      <td>6420</td>\n",
              "      <td>It has been 93 days since the last case of COV...</td>\n",
              "      <td>1</td>\n",
              "    </tr>\n",
              "  </tbody>\n",
              "</table>\n",
              "<p>6420 rows × 3 columns</p>\n",
              "</div>"
            ],
            "text/plain": [
              "        id                                              tweet  label\n",
              "0        1  The CDC currently reports 99031 deaths. In gen...      1\n",
              "1        2  States reported 1121 deaths a small rise from ...      1\n",
              "2        3  Politically Correct Woman (Almost) Uses Pandem...      0\n",
              "3        4  #IndiaFightsCorona: We have 1524 #COVID testin...      1\n",
              "4        5  Populous states can generate large case counts...      1\n",
              "...    ...                                                ...    ...\n",
              "6415  6416  A tiger tested positive for COVID-19 please st...      0\n",
              "6416  6417  ???Autopsies prove that COVID-19 is??� a blood...      0\n",
              "6417  6418  _A post claims a COVID-19 vaccine has already ...      0\n",
              "6418  6419  Aamir Khan Donate 250 Cr. In PM Relief Cares Fund      0\n",
              "6419  6420  It has been 93 days since the last case of COV...      1\n",
              "\n",
              "[6420 rows x 3 columns]"
            ]
          },
          "metadata": {
            "tags": []
          },
          "execution_count": 9
        }
      ]
    },
    {
      "cell_type": "code",
      "metadata": {
        "id": "FiKAVKf_yTy-"
      },
      "source": [
        "test=pd.read_csv(URL1,delimiter=\",\") "
      ],
      "execution_count": null,
      "outputs": []
    },
    {
      "cell_type": "code",
      "metadata": {
        "id": "QOW0WToWykEh",
        "colab": {
          "base_uri": "https://localhost:8080/",
          "height": 417
        },
        "outputId": "87f72de4-fe38-423d-985a-684c96f1d7a0"
      },
      "source": [
        "test"
      ],
      "execution_count": null,
      "outputs": [
        {
          "output_type": "execute_result",
          "data": {
            "text/html": [
              "<div>\n",
              "<style scoped>\n",
              "    .dataframe tbody tr th:only-of-type {\n",
              "        vertical-align: middle;\n",
              "    }\n",
              "\n",
              "    .dataframe tbody tr th {\n",
              "        vertical-align: top;\n",
              "    }\n",
              "\n",
              "    .dataframe thead th {\n",
              "        text-align: right;\n",
              "    }\n",
              "</style>\n",
              "<table border=\"1\" class=\"dataframe\">\n",
              "  <thead>\n",
              "    <tr style=\"text-align: right;\">\n",
              "      <th></th>\n",
              "      <th>id</th>\n",
              "      <th>tweet</th>\n",
              "    </tr>\n",
              "  </thead>\n",
              "  <tbody>\n",
              "    <tr>\n",
              "      <th>0</th>\n",
              "      <td>1</td>\n",
              "      <td>Our daily update is published. States reported...</td>\n",
              "    </tr>\n",
              "    <tr>\n",
              "      <th>1</th>\n",
              "      <td>2</td>\n",
              "      <td>Alfalfa is the only cure for COVID-19.</td>\n",
              "    </tr>\n",
              "    <tr>\n",
              "      <th>2</th>\n",
              "      <td>3</td>\n",
              "      <td>President Trump Asked What He Would Do If He W...</td>\n",
              "    </tr>\n",
              "    <tr>\n",
              "      <th>3</th>\n",
              "      <td>4</td>\n",
              "      <td>States reported 630 deaths. We are still seein...</td>\n",
              "    </tr>\n",
              "    <tr>\n",
              "      <th>4</th>\n",
              "      <td>5</td>\n",
              "      <td>This is the sixth time a global health emergen...</td>\n",
              "    </tr>\n",
              "    <tr>\n",
              "      <th>...</th>\n",
              "      <td>...</td>\n",
              "      <td>...</td>\n",
              "    </tr>\n",
              "    <tr>\n",
              "      <th>2135</th>\n",
              "      <td>2136</td>\n",
              "      <td>#CoronaVirusUpdates: State-wise details of Tot...</td>\n",
              "    </tr>\n",
              "    <tr>\n",
              "      <th>2136</th>\n",
              "      <td>2137</td>\n",
              "      <td>Tonight 12(midnight) onwards Disaster Manageme...</td>\n",
              "    </tr>\n",
              "    <tr>\n",
              "      <th>2137</th>\n",
              "      <td>2138</td>\n",
              "      <td>296 new cases of #COVID19Nigeria; Plateau-85 E...</td>\n",
              "    </tr>\n",
              "    <tr>\n",
              "      <th>2138</th>\n",
              "      <td>2139</td>\n",
              "      <td>RT @CDCemergency: #DYK? @CDCgov’s One-Stop Sho...</td>\n",
              "    </tr>\n",
              "    <tr>\n",
              "      <th>2139</th>\n",
              "      <td>2140</td>\n",
              "      <td>More than half of pregnant women recently admi...</td>\n",
              "    </tr>\n",
              "  </tbody>\n",
              "</table>\n",
              "<p>2140 rows × 2 columns</p>\n",
              "</div>"
            ],
            "text/plain": [
              "        id                                              tweet\n",
              "0        1  Our daily update is published. States reported...\n",
              "1        2             Alfalfa is the only cure for COVID-19.\n",
              "2        3  President Trump Asked What He Would Do If He W...\n",
              "3        4  States reported 630 deaths. We are still seein...\n",
              "4        5  This is the sixth time a global health emergen...\n",
              "...    ...                                                ...\n",
              "2135  2136  #CoronaVirusUpdates: State-wise details of Tot...\n",
              "2136  2137  Tonight 12(midnight) onwards Disaster Manageme...\n",
              "2137  2138  296 new cases of #COVID19Nigeria; Plateau-85 E...\n",
              "2138  2139  RT @CDCemergency: #DYK? @CDCgov’s One-Stop Sho...\n",
              "2139  2140  More than half of pregnant women recently admi...\n",
              "\n",
              "[2140 rows x 2 columns]"
            ]
          },
          "metadata": {
            "tags": []
          },
          "execution_count": 11
        }
      ]
    },
    {
      "cell_type": "code",
      "metadata": {
        "id": "S8WJghPdylJ9"
      },
      "source": [
        "test_with_label=pd.read_csv(URL4,\",\")"
      ],
      "execution_count": null,
      "outputs": []
    },
    {
      "cell_type": "code",
      "metadata": {
        "id": "-muLUQtUytJX",
        "colab": {
          "base_uri": "https://localhost:8080/",
          "height": 417
        },
        "outputId": "292a9db5-7365-4fed-e2b8-0e6d6ee0f7fd"
      },
      "source": [
        "test_with_label"
      ],
      "execution_count": null,
      "outputs": [
        {
          "output_type": "execute_result",
          "data": {
            "text/html": [
              "<div>\n",
              "<style scoped>\n",
              "    .dataframe tbody tr th:only-of-type {\n",
              "        vertical-align: middle;\n",
              "    }\n",
              "\n",
              "    .dataframe tbody tr th {\n",
              "        vertical-align: top;\n",
              "    }\n",
              "\n",
              "    .dataframe thead th {\n",
              "        text-align: right;\n",
              "    }\n",
              "</style>\n",
              "<table border=\"1\" class=\"dataframe\">\n",
              "  <thead>\n",
              "    <tr style=\"text-align: right;\">\n",
              "      <th></th>\n",
              "      <th>id</th>\n",
              "      <th>tweet</th>\n",
              "      <th>label</th>\n",
              "    </tr>\n",
              "  </thead>\n",
              "  <tbody>\n",
              "    <tr>\n",
              "      <th>0</th>\n",
              "      <td>1</td>\n",
              "      <td>Our daily update is published. States reported...</td>\n",
              "      <td>real</td>\n",
              "    </tr>\n",
              "    <tr>\n",
              "      <th>1</th>\n",
              "      <td>2</td>\n",
              "      <td>Alfalfa is the only cure for COVID-19.</td>\n",
              "      <td>fake</td>\n",
              "    </tr>\n",
              "    <tr>\n",
              "      <th>2</th>\n",
              "      <td>3</td>\n",
              "      <td>President Trump Asked What He Would Do If He W...</td>\n",
              "      <td>fake</td>\n",
              "    </tr>\n",
              "    <tr>\n",
              "      <th>3</th>\n",
              "      <td>4</td>\n",
              "      <td>States reported 630 deaths. We are still seein...</td>\n",
              "      <td>real</td>\n",
              "    </tr>\n",
              "    <tr>\n",
              "      <th>4</th>\n",
              "      <td>5</td>\n",
              "      <td>This is the sixth time a global health emergen...</td>\n",
              "      <td>real</td>\n",
              "    </tr>\n",
              "    <tr>\n",
              "      <th>...</th>\n",
              "      <td>...</td>\n",
              "      <td>...</td>\n",
              "      <td>...</td>\n",
              "    </tr>\n",
              "    <tr>\n",
              "      <th>2135</th>\n",
              "      <td>2136</td>\n",
              "      <td>#CoronaVirusUpdates: State-wise details of Tot...</td>\n",
              "      <td>real</td>\n",
              "    </tr>\n",
              "    <tr>\n",
              "      <th>2136</th>\n",
              "      <td>2137</td>\n",
              "      <td>Tonight 12(midnight) onwards Disaster Manageme...</td>\n",
              "      <td>fake</td>\n",
              "    </tr>\n",
              "    <tr>\n",
              "      <th>2137</th>\n",
              "      <td>2138</td>\n",
              "      <td>296 new cases of #COVID19Nigeria; Plateau-85 E...</td>\n",
              "      <td>real</td>\n",
              "    </tr>\n",
              "    <tr>\n",
              "      <th>2138</th>\n",
              "      <td>2139</td>\n",
              "      <td>RT @CDCemergency: #DYK? @CDCgov’s One-Stop Sho...</td>\n",
              "      <td>real</td>\n",
              "    </tr>\n",
              "    <tr>\n",
              "      <th>2139</th>\n",
              "      <td>2140</td>\n",
              "      <td>More than half of pregnant women recently admi...</td>\n",
              "      <td>real</td>\n",
              "    </tr>\n",
              "  </tbody>\n",
              "</table>\n",
              "<p>2140 rows × 3 columns</p>\n",
              "</div>"
            ],
            "text/plain": [
              "        id                                              tweet label\n",
              "0        1  Our daily update is published. States reported...  real\n",
              "1        2             Alfalfa is the only cure for COVID-19.  fake\n",
              "2        3  President Trump Asked What He Would Do If He W...  fake\n",
              "3        4  States reported 630 deaths. We are still seein...  real\n",
              "4        5  This is the sixth time a global health emergen...  real\n",
              "...    ...                                                ...   ...\n",
              "2135  2136  #CoronaVirusUpdates: State-wise details of Tot...  real\n",
              "2136  2137  Tonight 12(midnight) onwards Disaster Manageme...  fake\n",
              "2137  2138  296 new cases of #COVID19Nigeria; Plateau-85 E...  real\n",
              "2138  2139  RT @CDCemergency: #DYK? @CDCgov’s One-Stop Sho...  real\n",
              "2139  2140  More than half of pregnant women recently admi...  real\n",
              "\n",
              "[2140 rows x 3 columns]"
            ]
          },
          "metadata": {
            "tags": []
          },
          "execution_count": 13
        }
      ]
    },
    {
      "cell_type": "code",
      "metadata": {
        "id": "4vbRif4_yu7O"
      },
      "source": [
        "test_with_label['label'].replace({'real': 1, 'fake': 0},inplace=True)"
      ],
      "execution_count": null,
      "outputs": []
    },
    {
      "cell_type": "code",
      "metadata": {
        "id": "lfl7u6BKy0Ou",
        "colab": {
          "base_uri": "https://localhost:8080/",
          "height": 417
        },
        "outputId": "011ba76c-9317-411f-df4f-25a67630dbeb"
      },
      "source": [
        "test_with_label"
      ],
      "execution_count": null,
      "outputs": [
        {
          "output_type": "execute_result",
          "data": {
            "text/html": [
              "<div>\n",
              "<style scoped>\n",
              "    .dataframe tbody tr th:only-of-type {\n",
              "        vertical-align: middle;\n",
              "    }\n",
              "\n",
              "    .dataframe tbody tr th {\n",
              "        vertical-align: top;\n",
              "    }\n",
              "\n",
              "    .dataframe thead th {\n",
              "        text-align: right;\n",
              "    }\n",
              "</style>\n",
              "<table border=\"1\" class=\"dataframe\">\n",
              "  <thead>\n",
              "    <tr style=\"text-align: right;\">\n",
              "      <th></th>\n",
              "      <th>id</th>\n",
              "      <th>tweet</th>\n",
              "      <th>label</th>\n",
              "    </tr>\n",
              "  </thead>\n",
              "  <tbody>\n",
              "    <tr>\n",
              "      <th>0</th>\n",
              "      <td>1</td>\n",
              "      <td>Our daily update is published. States reported...</td>\n",
              "      <td>1</td>\n",
              "    </tr>\n",
              "    <tr>\n",
              "      <th>1</th>\n",
              "      <td>2</td>\n",
              "      <td>Alfalfa is the only cure for COVID-19.</td>\n",
              "      <td>0</td>\n",
              "    </tr>\n",
              "    <tr>\n",
              "      <th>2</th>\n",
              "      <td>3</td>\n",
              "      <td>President Trump Asked What He Would Do If He W...</td>\n",
              "      <td>0</td>\n",
              "    </tr>\n",
              "    <tr>\n",
              "      <th>3</th>\n",
              "      <td>4</td>\n",
              "      <td>States reported 630 deaths. We are still seein...</td>\n",
              "      <td>1</td>\n",
              "    </tr>\n",
              "    <tr>\n",
              "      <th>4</th>\n",
              "      <td>5</td>\n",
              "      <td>This is the sixth time a global health emergen...</td>\n",
              "      <td>1</td>\n",
              "    </tr>\n",
              "    <tr>\n",
              "      <th>...</th>\n",
              "      <td>...</td>\n",
              "      <td>...</td>\n",
              "      <td>...</td>\n",
              "    </tr>\n",
              "    <tr>\n",
              "      <th>2135</th>\n",
              "      <td>2136</td>\n",
              "      <td>#CoronaVirusUpdates: State-wise details of Tot...</td>\n",
              "      <td>1</td>\n",
              "    </tr>\n",
              "    <tr>\n",
              "      <th>2136</th>\n",
              "      <td>2137</td>\n",
              "      <td>Tonight 12(midnight) onwards Disaster Manageme...</td>\n",
              "      <td>0</td>\n",
              "    </tr>\n",
              "    <tr>\n",
              "      <th>2137</th>\n",
              "      <td>2138</td>\n",
              "      <td>296 new cases of #COVID19Nigeria; Plateau-85 E...</td>\n",
              "      <td>1</td>\n",
              "    </tr>\n",
              "    <tr>\n",
              "      <th>2138</th>\n",
              "      <td>2139</td>\n",
              "      <td>RT @CDCemergency: #DYK? @CDCgov’s One-Stop Sho...</td>\n",
              "      <td>1</td>\n",
              "    </tr>\n",
              "    <tr>\n",
              "      <th>2139</th>\n",
              "      <td>2140</td>\n",
              "      <td>More than half of pregnant women recently admi...</td>\n",
              "      <td>1</td>\n",
              "    </tr>\n",
              "  </tbody>\n",
              "</table>\n",
              "<p>2140 rows × 3 columns</p>\n",
              "</div>"
            ],
            "text/plain": [
              "        id                                              tweet  label\n",
              "0        1  Our daily update is published. States reported...      1\n",
              "1        2             Alfalfa is the only cure for COVID-19.      0\n",
              "2        3  President Trump Asked What He Would Do If He W...      0\n",
              "3        4  States reported 630 deaths. We are still seein...      1\n",
              "4        5  This is the sixth time a global health emergen...      1\n",
              "...    ...                                                ...    ...\n",
              "2135  2136  #CoronaVirusUpdates: State-wise details of Tot...      1\n",
              "2136  2137  Tonight 12(midnight) onwards Disaster Manageme...      0\n",
              "2137  2138  296 new cases of #COVID19Nigeria; Plateau-85 E...      1\n",
              "2138  2139  RT @CDCemergency: #DYK? @CDCgov’s One-Stop Sho...      1\n",
              "2139  2140  More than half of pregnant women recently admi...      1\n",
              "\n",
              "[2140 rows x 3 columns]"
            ]
          },
          "metadata": {
            "tags": []
          },
          "execution_count": 15
        }
      ]
    },
    {
      "cell_type": "code",
      "metadata": {
        "id": "z_gz8-h5y2a-",
        "colab": {
          "base_uri": "https://localhost:8080/"
        },
        "outputId": "5635fe01-5fcf-4ccc-b237-c0c2f689e7c0"
      },
      "source": [
        "train[\"tweet\"].describe()"
      ],
      "execution_count": null,
      "outputs": [
        {
          "output_type": "execute_result",
          "data": {
            "text/plain": [
              "count                                                  6420\n",
              "unique                                                 6420\n",
              "top       #IndiaFightsCorona: @DBTIndia-BIRAC is support...\n",
              "freq                                                      1\n",
              "Name: tweet, dtype: object"
            ]
          },
          "metadata": {
            "tags": []
          },
          "execution_count": 16
        }
      ]
    },
    {
      "cell_type": "code",
      "metadata": {
        "id": "8m08A357zLom"
      },
      "source": [
        "def clean(string1):\n",
        "    string1=string1['tweet'].lower()\n",
        "    string1=string1.replace(\"@\",\"\")\n",
        "    string1=string1.replace(\"#\",\"\")\n",
        "    return string1"
      ],
      "execution_count": null,
      "outputs": []
    },
    {
      "cell_type": "code",
      "metadata": {
        "id": "V2Blbiy4zOtU"
      },
      "source": [
        "train['tweet'] = train.apply(clean, axis=1)"
      ],
      "execution_count": null,
      "outputs": []
    },
    {
      "cell_type": "code",
      "metadata": {
        "id": "_RV27vtDzQ5C",
        "colab": {
          "base_uri": "https://localhost:8080/",
          "height": 417
        },
        "outputId": "ec153f42-36ce-4b70-e4e6-2a9fa684d7ad"
      },
      "source": [
        "train"
      ],
      "execution_count": null,
      "outputs": [
        {
          "output_type": "execute_result",
          "data": {
            "text/html": [
              "<div>\n",
              "<style scoped>\n",
              "    .dataframe tbody tr th:only-of-type {\n",
              "        vertical-align: middle;\n",
              "    }\n",
              "\n",
              "    .dataframe tbody tr th {\n",
              "        vertical-align: top;\n",
              "    }\n",
              "\n",
              "    .dataframe thead th {\n",
              "        text-align: right;\n",
              "    }\n",
              "</style>\n",
              "<table border=\"1\" class=\"dataframe\">\n",
              "  <thead>\n",
              "    <tr style=\"text-align: right;\">\n",
              "      <th></th>\n",
              "      <th>id</th>\n",
              "      <th>tweet</th>\n",
              "      <th>label</th>\n",
              "    </tr>\n",
              "  </thead>\n",
              "  <tbody>\n",
              "    <tr>\n",
              "      <th>0</th>\n",
              "      <td>1</td>\n",
              "      <td>the cdc currently reports 99031 deaths. in gen...</td>\n",
              "      <td>1</td>\n",
              "    </tr>\n",
              "    <tr>\n",
              "      <th>1</th>\n",
              "      <td>2</td>\n",
              "      <td>states reported 1121 deaths a small rise from ...</td>\n",
              "      <td>1</td>\n",
              "    </tr>\n",
              "    <tr>\n",
              "      <th>2</th>\n",
              "      <td>3</td>\n",
              "      <td>politically correct woman (almost) uses pandem...</td>\n",
              "      <td>0</td>\n",
              "    </tr>\n",
              "    <tr>\n",
              "      <th>3</th>\n",
              "      <td>4</td>\n",
              "      <td>indiafightscorona: we have 1524 covid testing ...</td>\n",
              "      <td>1</td>\n",
              "    </tr>\n",
              "    <tr>\n",
              "      <th>4</th>\n",
              "      <td>5</td>\n",
              "      <td>populous states can generate large case counts...</td>\n",
              "      <td>1</td>\n",
              "    </tr>\n",
              "    <tr>\n",
              "      <th>...</th>\n",
              "      <td>...</td>\n",
              "      <td>...</td>\n",
              "      <td>...</td>\n",
              "    </tr>\n",
              "    <tr>\n",
              "      <th>6415</th>\n",
              "      <td>6416</td>\n",
              "      <td>a tiger tested positive for covid-19 please st...</td>\n",
              "      <td>0</td>\n",
              "    </tr>\n",
              "    <tr>\n",
              "      <th>6416</th>\n",
              "      <td>6417</td>\n",
              "      <td>???autopsies prove that covid-19 is??� a blood...</td>\n",
              "      <td>0</td>\n",
              "    </tr>\n",
              "    <tr>\n",
              "      <th>6417</th>\n",
              "      <td>6418</td>\n",
              "      <td>_a post claims a covid-19 vaccine has already ...</td>\n",
              "      <td>0</td>\n",
              "    </tr>\n",
              "    <tr>\n",
              "      <th>6418</th>\n",
              "      <td>6419</td>\n",
              "      <td>aamir khan donate 250 cr. in pm relief cares fund</td>\n",
              "      <td>0</td>\n",
              "    </tr>\n",
              "    <tr>\n",
              "      <th>6419</th>\n",
              "      <td>6420</td>\n",
              "      <td>it has been 93 days since the last case of cov...</td>\n",
              "      <td>1</td>\n",
              "    </tr>\n",
              "  </tbody>\n",
              "</table>\n",
              "<p>6420 rows × 3 columns</p>\n",
              "</div>"
            ],
            "text/plain": [
              "        id                                              tweet  label\n",
              "0        1  the cdc currently reports 99031 deaths. in gen...      1\n",
              "1        2  states reported 1121 deaths a small rise from ...      1\n",
              "2        3  politically correct woman (almost) uses pandem...      0\n",
              "3        4  indiafightscorona: we have 1524 covid testing ...      1\n",
              "4        5  populous states can generate large case counts...      1\n",
              "...    ...                                                ...    ...\n",
              "6415  6416  a tiger tested positive for covid-19 please st...      0\n",
              "6416  6417  ???autopsies prove that covid-19 is??� a blood...      0\n",
              "6417  6418  _a post claims a covid-19 vaccine has already ...      0\n",
              "6418  6419  aamir khan donate 250 cr. in pm relief cares fund      0\n",
              "6419  6420  it has been 93 days since the last case of cov...      1\n",
              "\n",
              "[6420 rows x 3 columns]"
            ]
          },
          "metadata": {
            "tags": []
          },
          "execution_count": 19
        }
      ]
    },
    {
      "cell_type": "code",
      "metadata": {
        "id": "U6j6il6LzSt0"
      },
      "source": [
        "test_with_label['tweet'] = test_with_label.apply(clean, axis=1)"
      ],
      "execution_count": null,
      "outputs": []
    },
    {
      "cell_type": "code",
      "metadata": {
        "id": "9aZAxkWS6xsx",
        "colab": {
          "base_uri": "https://localhost:8080/",
          "height": 417
        },
        "outputId": "1b345d41-3d5f-4ced-a5c2-c4cf3d6bfa52"
      },
      "source": [
        "test_with_label"
      ],
      "execution_count": null,
      "outputs": [
        {
          "output_type": "execute_result",
          "data": {
            "text/html": [
              "<div>\n",
              "<style scoped>\n",
              "    .dataframe tbody tr th:only-of-type {\n",
              "        vertical-align: middle;\n",
              "    }\n",
              "\n",
              "    .dataframe tbody tr th {\n",
              "        vertical-align: top;\n",
              "    }\n",
              "\n",
              "    .dataframe thead th {\n",
              "        text-align: right;\n",
              "    }\n",
              "</style>\n",
              "<table border=\"1\" class=\"dataframe\">\n",
              "  <thead>\n",
              "    <tr style=\"text-align: right;\">\n",
              "      <th></th>\n",
              "      <th>id</th>\n",
              "      <th>tweet</th>\n",
              "      <th>label</th>\n",
              "    </tr>\n",
              "  </thead>\n",
              "  <tbody>\n",
              "    <tr>\n",
              "      <th>0</th>\n",
              "      <td>1</td>\n",
              "      <td>our daily update is published. states reported...</td>\n",
              "      <td>1</td>\n",
              "    </tr>\n",
              "    <tr>\n",
              "      <th>1</th>\n",
              "      <td>2</td>\n",
              "      <td>alfalfa is the only cure for covid-19.</td>\n",
              "      <td>0</td>\n",
              "    </tr>\n",
              "    <tr>\n",
              "      <th>2</th>\n",
              "      <td>3</td>\n",
              "      <td>president trump asked what he would do if he w...</td>\n",
              "      <td>0</td>\n",
              "    </tr>\n",
              "    <tr>\n",
              "      <th>3</th>\n",
              "      <td>4</td>\n",
              "      <td>states reported 630 deaths. we are still seein...</td>\n",
              "      <td>1</td>\n",
              "    </tr>\n",
              "    <tr>\n",
              "      <th>4</th>\n",
              "      <td>5</td>\n",
              "      <td>this is the sixth time a global health emergen...</td>\n",
              "      <td>1</td>\n",
              "    </tr>\n",
              "    <tr>\n",
              "      <th>...</th>\n",
              "      <td>...</td>\n",
              "      <td>...</td>\n",
              "      <td>...</td>\n",
              "    </tr>\n",
              "    <tr>\n",
              "      <th>2135</th>\n",
              "      <td>2136</td>\n",
              "      <td>coronavirusupdates: state-wise details of tota...</td>\n",
              "      <td>1</td>\n",
              "    </tr>\n",
              "    <tr>\n",
              "      <th>2136</th>\n",
              "      <td>2137</td>\n",
              "      <td>tonight 12(midnight) onwards disaster manageme...</td>\n",
              "      <td>0</td>\n",
              "    </tr>\n",
              "    <tr>\n",
              "      <th>2137</th>\n",
              "      <td>2138</td>\n",
              "      <td>296 new cases of covid19nigeria; plateau-85 en...</td>\n",
              "      <td>1</td>\n",
              "    </tr>\n",
              "    <tr>\n",
              "      <th>2138</th>\n",
              "      <td>2139</td>\n",
              "      <td>rt cdcemergency: dyk? cdcgov’s one-stop shop f...</td>\n",
              "      <td>1</td>\n",
              "    </tr>\n",
              "    <tr>\n",
              "      <th>2139</th>\n",
              "      <td>2140</td>\n",
              "      <td>more than half of pregnant women recently admi...</td>\n",
              "      <td>1</td>\n",
              "    </tr>\n",
              "  </tbody>\n",
              "</table>\n",
              "<p>2140 rows × 3 columns</p>\n",
              "</div>"
            ],
            "text/plain": [
              "        id                                              tweet  label\n",
              "0        1  our daily update is published. states reported...      1\n",
              "1        2             alfalfa is the only cure for covid-19.      0\n",
              "2        3  president trump asked what he would do if he w...      0\n",
              "3        4  states reported 630 deaths. we are still seein...      1\n",
              "4        5  this is the sixth time a global health emergen...      1\n",
              "...    ...                                                ...    ...\n",
              "2135  2136  coronavirusupdates: state-wise details of tota...      1\n",
              "2136  2137  tonight 12(midnight) onwards disaster manageme...      0\n",
              "2137  2138  296 new cases of covid19nigeria; plateau-85 en...      1\n",
              "2138  2139  rt cdcemergency: dyk? cdcgov’s one-stop shop f...      1\n",
              "2139  2140  more than half of pregnant women recently admi...      1\n",
              "\n",
              "[2140 rows x 3 columns]"
            ]
          },
          "metadata": {
            "tags": []
          },
          "execution_count": 21
        }
      ]
    },
    {
      "cell_type": "code",
      "metadata": {
        "id": "SkERJLMzjoBD"
      },
      "source": [
        "from sklearn.feature_extraction.text import TfidfVectorizer, CountVectorizer"
      ],
      "execution_count": null,
      "outputs": []
    },
    {
      "cell_type": "code",
      "metadata": {
        "id": "TbonAnFfwA59"
      },
      "source": [
        "Vectorizer=TfidfVectorizer()"
      ],
      "execution_count": null,
      "outputs": []
    },
    {
      "cell_type": "code",
      "metadata": {
        "id": "eRtBbxE5B_7K"
      },
      "source": [
        "X=Vectorizer.fit_transform(train[\"tweet\"])\n",
        "X_test=Vectorizer.transform(test_with_label[\"tweet\"])"
      ],
      "execution_count": null,
      "outputs": []
    },
    {
      "cell_type": "code",
      "metadata": {
        "id": "kDUml8ARF6Sw"
      },
      "source": [
        "from sklearn.model_selection import train_test_split"
      ],
      "execution_count": null,
      "outputs": []
    },
    {
      "cell_type": "code",
      "metadata": {
        "id": "OFcP4-hBGIXk"
      },
      "source": [
        "from sklearn.naive_bayes import MultinomialNB"
      ],
      "execution_count": null,
      "outputs": []
    },
    {
      "cell_type": "code",
      "metadata": {
        "id": "TRv2d_8bmTbY"
      },
      "source": [
        "model=MultinomialNB()"
      ],
      "execution_count": null,
      "outputs": []
    },
    {
      "cell_type": "code",
      "metadata": {
        "colab": {
          "base_uri": "https://localhost:8080/"
        },
        "id": "CQ6SHWElnPOq",
        "outputId": "d49531d5-0bef-4ae9-9cda-32e320aaa9f8"
      },
      "source": [
        "model.fit(X,train['label'])"
      ],
      "execution_count": null,
      "outputs": [
        {
          "output_type": "execute_result",
          "data": {
            "text/plain": [
              "MultinomialNB(alpha=1.0, class_prior=None, fit_prior=True)"
            ]
          },
          "metadata": {
            "tags": []
          },
          "execution_count": 28
        }
      ]
    },
    {
      "cell_type": "code",
      "metadata": {
        "colab": {
          "base_uri": "https://localhost:8080/"
        },
        "id": "CX7dprZ2sOku",
        "outputId": "ea1e80bf-21e1-4d1f-adbb-b253e095dbaf"
      },
      "source": [
        "model.score(X_test, test_with_label['label'])"
      ],
      "execution_count": null,
      "outputs": [
        {
          "output_type": "execute_result",
          "data": {
            "text/plain": [
              "0.9037383177570093"
            ]
          },
          "metadata": {
            "tags": []
          },
          "execution_count": 29
        }
      ]
    },
    {
      "cell_type": "code",
      "metadata": {
        "id": "P6Ph8HoI0jnQ"
      },
      "source": [
        "from sklearn.linear_model import LogisticRegression"
      ],
      "execution_count": null,
      "outputs": []
    },
    {
      "cell_type": "code",
      "metadata": {
        "id": "faEeIjJT9qaj"
      },
      "source": [
        "model=LogisticRegression()"
      ],
      "execution_count": null,
      "outputs": []
    },
    {
      "cell_type": "code",
      "metadata": {
        "colab": {
          "base_uri": "https://localhost:8080/"
        },
        "id": "kWkudUNJ9wf2",
        "outputId": "ee40391a-354d-42a1-d2a2-066dd1d0505d"
      },
      "source": [
        "model.fit(X,train['label'])"
      ],
      "execution_count": null,
      "outputs": [
        {
          "output_type": "execute_result",
          "data": {
            "text/plain": [
              "LogisticRegression(C=1.0, class_weight=None, dual=False, fit_intercept=True,\n",
              "                   intercept_scaling=1, l1_ratio=None, max_iter=100,\n",
              "                   multi_class='auto', n_jobs=None, penalty='l2',\n",
              "                   random_state=None, solver='lbfgs', tol=0.0001, verbose=0,\n",
              "                   warm_start=False)"
            ]
          },
          "metadata": {
            "tags": []
          },
          "execution_count": 32
        }
      ]
    },
    {
      "cell_type": "code",
      "metadata": {
        "colab": {
          "base_uri": "https://localhost:8080/"
        },
        "id": "38O_9K6z9w2B",
        "outputId": "a20f917d-7359-4d2b-acc9-b3ede17bd4dd"
      },
      "source": [
        "model.score(X_test, test_with_label['label'])"
      ],
      "execution_count": null,
      "outputs": [
        {
          "output_type": "execute_result",
          "data": {
            "text/plain": [
              "0.927570093457944"
            ]
          },
          "metadata": {
            "tags": []
          },
          "execution_count": 33
        }
      ]
    },
    {
      "cell_type": "code",
      "metadata": {
        "id": "pcBvGxjl92BE"
      },
      "source": [
        "from sklearn.linear_model import PassiveAggressiveClassifier"
      ],
      "execution_count": null,
      "outputs": []
    },
    {
      "cell_type": "code",
      "metadata": {
        "id": "lznwm3juB-hD"
      },
      "source": [
        "PAC=PassiveAggressiveClassifier(max_iter=1000, random_state=0,tol=2e-3)"
      ],
      "execution_count": null,
      "outputs": []
    },
    {
      "cell_type": "code",
      "metadata": {
        "colab": {
          "base_uri": "https://localhost:8080/"
        },
        "id": "RsybhRytCLW9",
        "outputId": "7d645142-4b97-422d-9583-5c29d770938e"
      },
      "source": [
        "PAC.fit(X,train['label'])"
      ],
      "execution_count": null,
      "outputs": [
        {
          "output_type": "execute_result",
          "data": {
            "text/plain": [
              "PassiveAggressiveClassifier(C=1.0, average=False, class_weight=None,\n",
              "                            early_stopping=False, fit_intercept=True,\n",
              "                            loss='hinge', max_iter=1000, n_iter_no_change=5,\n",
              "                            n_jobs=None, random_state=0, shuffle=True,\n",
              "                            tol=0.002, validation_fraction=0.1, verbose=0,\n",
              "                            warm_start=False)"
            ]
          },
          "metadata": {
            "tags": []
          },
          "execution_count": 59
        }
      ]
    },
    {
      "cell_type": "code",
      "metadata": {
        "colab": {
          "base_uri": "https://localhost:8080/"
        },
        "id": "7in3Hi4hCO-_",
        "outputId": "20b12a87-8f3b-4b80-aa03-c4f123d3a76d"
      },
      "source": [
        "PAC.score(X_test, test_with_label['label'])"
      ],
      "execution_count": null,
      "outputs": [
        {
          "output_type": "execute_result",
          "data": {
            "text/plain": [
              "0.9457943925233645"
            ]
          },
          "metadata": {
            "tags": []
          },
          "execution_count": 60
        }
      ]
    },
    {
      "cell_type": "code",
      "metadata": {
        "id": "5uJzc4usCRbP"
      },
      "source": [
        "from sklearn.svm import SVC"
      ],
      "execution_count": null,
      "outputs": []
    },
    {
      "cell_type": "code",
      "metadata": {
        "id": "aEJAl9B-D06c"
      },
      "source": [
        "model=SVC()"
      ],
      "execution_count": null,
      "outputs": []
    },
    {
      "cell_type": "code",
      "metadata": {
        "colab": {
          "base_uri": "https://localhost:8080/"
        },
        "id": "rylJ14JLFpwh",
        "outputId": "94383b25-9b6c-4c9a-e6e2-9d5075db1a64"
      },
      "source": [
        "model.fit(X,train['label'])"
      ],
      "execution_count": null,
      "outputs": [
        {
          "output_type": "execute_result",
          "data": {
            "text/plain": [
              "SVC(C=1.0, break_ties=False, cache_size=200, class_weight=None, coef0=0.0,\n",
              "    decision_function_shape='ovr', degree=3, gamma='scale', kernel='rbf',\n",
              "    max_iter=-1, probability=False, random_state=None, shrinking=True,\n",
              "    tol=0.001, verbose=False)"
            ]
          },
          "metadata": {
            "tags": []
          },
          "execution_count": 40
        }
      ]
    },
    {
      "cell_type": "code",
      "metadata": {
        "colab": {
          "base_uri": "https://localhost:8080/"
        },
        "id": "HPH3INgHFrEI",
        "outputId": "4835d85a-e55b-4433-bdfa-ac70ab2f2bc0"
      },
      "source": [
        "model.score(X_test, test_with_label['label'])"
      ],
      "execution_count": null,
      "outputs": [
        {
          "output_type": "execute_result",
          "data": {
            "text/plain": [
              "0.9397196261682244"
            ]
          },
          "metadata": {
            "tags": []
          },
          "execution_count": 41
        }
      ]
    },
    {
      "cell_type": "code",
      "metadata": {
        "id": "uMjTD8x6Fs8H"
      },
      "source": [
        "from sklearn.svm import LinearSVC"
      ],
      "execution_count": null,
      "outputs": []
    },
    {
      "cell_type": "code",
      "metadata": {
        "id": "yTIGoGQIGyd7"
      },
      "source": [
        "model=LinearSVC()"
      ],
      "execution_count": null,
      "outputs": []
    },
    {
      "cell_type": "code",
      "metadata": {
        "colab": {
          "base_uri": "https://localhost:8080/"
        },
        "id": "fiERDqG0G9-B",
        "outputId": "f1c483d5-04d8-4136-8240-f0e39297ae5f"
      },
      "source": [
        "model.fit(X,train['label'])"
      ],
      "execution_count": null,
      "outputs": [
        {
          "output_type": "execute_result",
          "data": {
            "text/plain": [
              "LinearSVC(C=1.0, class_weight=None, dual=True, fit_intercept=True,\n",
              "          intercept_scaling=1, loss='squared_hinge', max_iter=1000,\n",
              "          multi_class='ovr', penalty='l2', random_state=None, tol=0.0001,\n",
              "          verbose=0)"
            ]
          },
          "metadata": {
            "tags": []
          },
          "execution_count": 44
        }
      ]
    },
    {
      "cell_type": "code",
      "metadata": {
        "colab": {
          "base_uri": "https://localhost:8080/"
        },
        "id": "qpcptYKDHJRC",
        "outputId": "afea968a-a0f9-44a4-a8a3-95b50b35ae09"
      },
      "source": [
        "model.score(X_test, test_with_label['label'])"
      ],
      "execution_count": null,
      "outputs": [
        {
          "output_type": "execute_result",
          "data": {
            "text/plain": [
              "0.9392523364485982"
            ]
          },
          "metadata": {
            "tags": []
          },
          "execution_count": 45
        }
      ]
    },
    {
      "cell_type": "code",
      "metadata": {
        "id": "_KJV2HoDHPoq"
      },
      "source": [
        "param_grid = {'C': [0.1,1, 10, 100, 1000], 'gamma': [1,0.1,0.01,0.001,0.0001], 'kernel': ['rbf','linear','poly']} "
      ],
      "execution_count": null,
      "outputs": []
    },
    {
      "cell_type": "code",
      "metadata": {
        "id": "uqg97tVOemFW"
      },
      "source": [
        "from sklearn.model_selection import GridSearchCV\n"
      ],
      "execution_count": null,
      "outputs": []
    },
    {
      "cell_type": "code",
      "metadata": {
        "id": "Z9drdJRKesD2"
      },
      "source": [
        "grid=GridSearchCV(SVC(),param_grid,refit=True,verbose=5)"
      ],
      "execution_count": null,
      "outputs": []
    },
    {
      "cell_type": "code",
      "metadata": {
        "colab": {
          "base_uri": "https://localhost:8080/"
        },
        "id": "EP8fnxSufNsN",
        "outputId": "f77f0857-d13e-4211-b33c-525ac9c7178d"
      },
      "source": [
        "grid.fit(X,train['label'])"
      ],
      "execution_count": null,
      "outputs": [
        {
          "output_type": "stream",
          "text": [
            "Fitting 5 folds for each of 75 candidates, totalling 375 fits\n",
            "[CV] C=0.1, gamma=1, kernel=rbf ......................................\n"
          ],
          "name": "stdout"
        },
        {
          "output_type": "stream",
          "text": [
            "[Parallel(n_jobs=1)]: Using backend SequentialBackend with 1 concurrent workers.\n"
          ],
          "name": "stderr"
        },
        {
          "output_type": "stream",
          "text": [
            "[CV] .......... C=0.1, gamma=1, kernel=rbf, score=0.900, total=   8.9s\n",
            "[CV] C=0.1, gamma=1, kernel=rbf ......................................\n"
          ],
          "name": "stdout"
        },
        {
          "output_type": "stream",
          "text": [
            "[Parallel(n_jobs=1)]: Done   1 out of   1 | elapsed:    8.9s remaining:    0.0s\n"
          ],
          "name": "stderr"
        },
        {
          "output_type": "stream",
          "text": [
            "[CV] .......... C=0.1, gamma=1, kernel=rbf, score=0.889, total=   8.8s\n",
            "[CV] C=0.1, gamma=1, kernel=rbf ......................................\n"
          ],
          "name": "stdout"
        },
        {
          "output_type": "stream",
          "text": [
            "[Parallel(n_jobs=1)]: Done   2 out of   2 | elapsed:   17.6s remaining:    0.0s\n"
          ],
          "name": "stderr"
        },
        {
          "output_type": "stream",
          "text": [
            "[CV] .......... C=0.1, gamma=1, kernel=rbf, score=0.904, total=   8.7s\n",
            "[CV] C=0.1, gamma=1, kernel=rbf ......................................\n"
          ],
          "name": "stdout"
        },
        {
          "output_type": "stream",
          "text": [
            "[Parallel(n_jobs=1)]: Done   3 out of   3 | elapsed:   26.4s remaining:    0.0s\n"
          ],
          "name": "stderr"
        },
        {
          "output_type": "stream",
          "text": [
            "[CV] .......... C=0.1, gamma=1, kernel=rbf, score=0.894, total=   8.7s\n",
            "[CV] C=0.1, gamma=1, kernel=rbf ......................................\n"
          ],
          "name": "stdout"
        },
        {
          "output_type": "stream",
          "text": [
            "[Parallel(n_jobs=1)]: Done   4 out of   4 | elapsed:   35.1s remaining:    0.0s\n"
          ],
          "name": "stderr"
        },
        {
          "output_type": "stream",
          "text": [
            "[CV] .......... C=0.1, gamma=1, kernel=rbf, score=0.892, total=   8.8s\n",
            "[CV] C=0.1, gamma=1, kernel=linear ...................................\n",
            "[CV] ....... C=0.1, gamma=1, kernel=linear, score=0.921, total=   6.2s\n",
            "[CV] C=0.1, gamma=1, kernel=linear ...................................\n",
            "[CV] ....... C=0.1, gamma=1, kernel=linear, score=0.910, total=   6.2s\n",
            "[CV] C=0.1, gamma=1, kernel=linear ...................................\n",
            "[CV] ....... C=0.1, gamma=1, kernel=linear, score=0.913, total=   6.2s\n",
            "[CV] C=0.1, gamma=1, kernel=linear ...................................\n",
            "[CV] ....... C=0.1, gamma=1, kernel=linear, score=0.904, total=   6.2s\n",
            "[CV] C=0.1, gamma=1, kernel=linear ...................................\n",
            "[CV] ....... C=0.1, gamma=1, kernel=linear, score=0.913, total=   6.2s\n",
            "[CV] C=0.1, gamma=1, kernel=poly .....................................\n",
            "[CV] ......... C=0.1, gamma=1, kernel=poly, score=0.523, total=   9.0s\n",
            "[CV] C=0.1, gamma=1, kernel=poly .....................................\n",
            "[CV] ......... C=0.1, gamma=1, kernel=poly, score=0.523, total=   8.9s\n",
            "[CV] C=0.1, gamma=1, kernel=poly .....................................\n",
            "[CV] ......... C=0.1, gamma=1, kernel=poly, score=0.523, total=   9.0s\n",
            "[CV] C=0.1, gamma=1, kernel=poly .....................................\n",
            "[CV] ......... C=0.1, gamma=1, kernel=poly, score=0.523, total=   9.0s\n",
            "[CV] C=0.1, gamma=1, kernel=poly .....................................\n",
            "[CV] ......... C=0.1, gamma=1, kernel=poly, score=0.523, total=   9.1s\n",
            "[CV] C=0.1, gamma=0.1, kernel=rbf ....................................\n",
            "[CV] ........ C=0.1, gamma=0.1, kernel=rbf, score=0.820, total=   9.5s\n",
            "[CV] C=0.1, gamma=0.1, kernel=rbf ....................................\n",
            "[CV] ........ C=0.1, gamma=0.1, kernel=rbf, score=0.827, total=   9.4s\n",
            "[CV] C=0.1, gamma=0.1, kernel=rbf ....................................\n",
            "[CV] ........ C=0.1, gamma=0.1, kernel=rbf, score=0.808, total=   9.4s\n",
            "[CV] C=0.1, gamma=0.1, kernel=rbf ....................................\n",
            "[CV] ........ C=0.1, gamma=0.1, kernel=rbf, score=0.822, total=   9.4s\n",
            "[CV] C=0.1, gamma=0.1, kernel=rbf ....................................\n",
            "[CV] ........ C=0.1, gamma=0.1, kernel=rbf, score=0.819, total=   9.4s\n",
            "[CV] C=0.1, gamma=0.1, kernel=linear .................................\n",
            "[CV] ..... C=0.1, gamma=0.1, kernel=linear, score=0.921, total=   6.3s\n",
            "[CV] C=0.1, gamma=0.1, kernel=linear .................................\n",
            "[CV] ..... C=0.1, gamma=0.1, kernel=linear, score=0.910, total=   6.2s\n",
            "[CV] C=0.1, gamma=0.1, kernel=linear .................................\n",
            "[CV] ..... C=0.1, gamma=0.1, kernel=linear, score=0.913, total=   6.3s\n",
            "[CV] C=0.1, gamma=0.1, kernel=linear .................................\n",
            "[CV] ..... C=0.1, gamma=0.1, kernel=linear, score=0.904, total=   6.3s\n",
            "[CV] C=0.1, gamma=0.1, kernel=linear .................................\n",
            "[CV] ..... C=0.1, gamma=0.1, kernel=linear, score=0.913, total=   6.4s\n",
            "[CV] C=0.1, gamma=0.1, kernel=poly ...................................\n",
            "[CV] ....... C=0.1, gamma=0.1, kernel=poly, score=0.523, total=   8.8s\n",
            "[CV] C=0.1, gamma=0.1, kernel=poly ...................................\n",
            "[CV] ....... C=0.1, gamma=0.1, kernel=poly, score=0.523, total=   8.8s\n",
            "[CV] C=0.1, gamma=0.1, kernel=poly ...................................\n",
            "[CV] ....... C=0.1, gamma=0.1, kernel=poly, score=0.523, total=   8.9s\n",
            "[CV] C=0.1, gamma=0.1, kernel=poly ...................................\n",
            "[CV] ....... C=0.1, gamma=0.1, kernel=poly, score=0.523, total=   8.8s\n",
            "[CV] C=0.1, gamma=0.1, kernel=poly ...................................\n",
            "[CV] ....... C=0.1, gamma=0.1, kernel=poly, score=0.523, total=   8.8s\n",
            "[CV] C=0.1, gamma=0.01, kernel=rbf ...................................\n",
            "[CV] ....... C=0.1, gamma=0.01, kernel=rbf, score=0.523, total=   9.8s\n",
            "[CV] C=0.1, gamma=0.01, kernel=rbf ...................................\n",
            "[CV] ....... C=0.1, gamma=0.01, kernel=rbf, score=0.523, total=   9.6s\n",
            "[CV] C=0.1, gamma=0.01, kernel=rbf ...................................\n",
            "[CV] ....... C=0.1, gamma=0.01, kernel=rbf, score=0.523, total=   9.6s\n",
            "[CV] C=0.1, gamma=0.01, kernel=rbf ...................................\n",
            "[CV] ....... C=0.1, gamma=0.01, kernel=rbf, score=0.523, total=   9.6s\n",
            "[CV] C=0.1, gamma=0.01, kernel=rbf ...................................\n",
            "[CV] ....... C=0.1, gamma=0.01, kernel=rbf, score=0.523, total=   9.7s\n",
            "[CV] C=0.1, gamma=0.01, kernel=linear ................................\n",
            "[CV] .... C=0.1, gamma=0.01, kernel=linear, score=0.921, total=   6.4s\n",
            "[CV] C=0.1, gamma=0.01, kernel=linear ................................\n",
            "[CV] .... C=0.1, gamma=0.01, kernel=linear, score=0.910, total=   6.4s\n",
            "[CV] C=0.1, gamma=0.01, kernel=linear ................................\n",
            "[CV] .... C=0.1, gamma=0.01, kernel=linear, score=0.913, total=   6.4s\n",
            "[CV] C=0.1, gamma=0.01, kernel=linear ................................\n",
            "[CV] .... C=0.1, gamma=0.01, kernel=linear, score=0.904, total=   6.3s\n",
            "[CV] C=0.1, gamma=0.01, kernel=linear ................................\n",
            "[CV] .... C=0.1, gamma=0.01, kernel=linear, score=0.913, total=   6.3s\n",
            "[CV] C=0.1, gamma=0.01, kernel=poly ..................................\n",
            "[CV] ...... C=0.1, gamma=0.01, kernel=poly, score=0.523, total=   8.8s\n",
            "[CV] C=0.1, gamma=0.01, kernel=poly ..................................\n",
            "[CV] ...... C=0.1, gamma=0.01, kernel=poly, score=0.523, total=   8.7s\n",
            "[CV] C=0.1, gamma=0.01, kernel=poly ..................................\n",
            "[CV] ...... C=0.1, gamma=0.01, kernel=poly, score=0.523, total=   8.8s\n",
            "[CV] C=0.1, gamma=0.01, kernel=poly ..................................\n",
            "[CV] ...... C=0.1, gamma=0.01, kernel=poly, score=0.523, total=   8.8s\n",
            "[CV] C=0.1, gamma=0.01, kernel=poly ..................................\n",
            "[CV] ...... C=0.1, gamma=0.01, kernel=poly, score=0.523, total=   8.8s\n",
            "[CV] C=0.1, gamma=0.001, kernel=rbf ..................................\n",
            "[CV] ...... C=0.1, gamma=0.001, kernel=rbf, score=0.523, total=   9.8s\n",
            "[CV] C=0.1, gamma=0.001, kernel=rbf ..................................\n",
            "[CV] ...... C=0.1, gamma=0.001, kernel=rbf, score=0.523, total=   9.8s\n",
            "[CV] C=0.1, gamma=0.001, kernel=rbf ..................................\n",
            "[CV] ...... C=0.1, gamma=0.001, kernel=rbf, score=0.523, total=   9.8s\n",
            "[CV] C=0.1, gamma=0.001, kernel=rbf ..................................\n",
            "[CV] ...... C=0.1, gamma=0.001, kernel=rbf, score=0.523, total=   9.7s\n",
            "[CV] C=0.1, gamma=0.001, kernel=rbf ..................................\n",
            "[CV] ...... C=0.1, gamma=0.001, kernel=rbf, score=0.523, total=   9.8s\n",
            "[CV] C=0.1, gamma=0.001, kernel=linear ...............................\n",
            "[CV] ... C=0.1, gamma=0.001, kernel=linear, score=0.921, total=   6.3s\n",
            "[CV] C=0.1, gamma=0.001, kernel=linear ...............................\n",
            "[CV] ... C=0.1, gamma=0.001, kernel=linear, score=0.910, total=   6.4s\n",
            "[CV] C=0.1, gamma=0.001, kernel=linear ...............................\n",
            "[CV] ... C=0.1, gamma=0.001, kernel=linear, score=0.913, total=   6.4s\n",
            "[CV] C=0.1, gamma=0.001, kernel=linear ...............................\n",
            "[CV] ... C=0.1, gamma=0.001, kernel=linear, score=0.904, total=   6.4s\n",
            "[CV] C=0.1, gamma=0.001, kernel=linear ...............................\n",
            "[CV] ... C=0.1, gamma=0.001, kernel=linear, score=0.913, total=   6.5s\n",
            "[CV] C=0.1, gamma=0.001, kernel=poly .................................\n",
            "[CV] ..... C=0.1, gamma=0.001, kernel=poly, score=0.523, total=   9.1s\n",
            "[CV] C=0.1, gamma=0.001, kernel=poly .................................\n",
            "[CV] ..... C=0.1, gamma=0.001, kernel=poly, score=0.523, total=   9.0s\n",
            "[CV] C=0.1, gamma=0.001, kernel=poly .................................\n",
            "[CV] ..... C=0.1, gamma=0.001, kernel=poly, score=0.523, total=   9.0s\n",
            "[CV] C=0.1, gamma=0.001, kernel=poly .................................\n",
            "[CV] ..... C=0.1, gamma=0.001, kernel=poly, score=0.523, total=   9.0s\n",
            "[CV] C=0.1, gamma=0.001, kernel=poly .................................\n",
            "[CV] ..... C=0.1, gamma=0.001, kernel=poly, score=0.523, total=   9.0s\n",
            "[CV] C=0.1, gamma=0.0001, kernel=rbf .................................\n",
            "[CV] ..... C=0.1, gamma=0.0001, kernel=rbf, score=0.523, total=   9.7s\n",
            "[CV] C=0.1, gamma=0.0001, kernel=rbf .................................\n",
            "[CV] ..... C=0.1, gamma=0.0001, kernel=rbf, score=0.523, total=   9.6s\n",
            "[CV] C=0.1, gamma=0.0001, kernel=rbf .................................\n",
            "[CV] ..... C=0.1, gamma=0.0001, kernel=rbf, score=0.523, total=   9.7s\n",
            "[CV] C=0.1, gamma=0.0001, kernel=rbf .................................\n",
            "[CV] ..... C=0.1, gamma=0.0001, kernel=rbf, score=0.523, total=   9.6s\n",
            "[CV] C=0.1, gamma=0.0001, kernel=rbf .................................\n",
            "[CV] ..... C=0.1, gamma=0.0001, kernel=rbf, score=0.523, total=   9.7s\n",
            "[CV] C=0.1, gamma=0.0001, kernel=linear ..............................\n",
            "[CV] .. C=0.1, gamma=0.0001, kernel=linear, score=0.921, total=   6.5s\n",
            "[CV] C=0.1, gamma=0.0001, kernel=linear ..............................\n",
            "[CV] .. C=0.1, gamma=0.0001, kernel=linear, score=0.910, total=   6.4s\n",
            "[CV] C=0.1, gamma=0.0001, kernel=linear ..............................\n",
            "[CV] .. C=0.1, gamma=0.0001, kernel=linear, score=0.913, total=   6.4s\n",
            "[CV] C=0.1, gamma=0.0001, kernel=linear ..............................\n",
            "[CV] .. C=0.1, gamma=0.0001, kernel=linear, score=0.904, total=   6.3s\n",
            "[CV] C=0.1, gamma=0.0001, kernel=linear ..............................\n",
            "[CV] .. C=0.1, gamma=0.0001, kernel=linear, score=0.913, total=   6.3s\n",
            "[CV] C=0.1, gamma=0.0001, kernel=poly ................................\n",
            "[CV] .... C=0.1, gamma=0.0001, kernel=poly, score=0.523, total=   8.9s\n",
            "[CV] C=0.1, gamma=0.0001, kernel=poly ................................\n",
            "[CV] .... C=0.1, gamma=0.0001, kernel=poly, score=0.523, total=   8.9s\n",
            "[CV] C=0.1, gamma=0.0001, kernel=poly ................................\n",
            "[CV] .... C=0.1, gamma=0.0001, kernel=poly, score=0.523, total=   9.0s\n",
            "[CV] C=0.1, gamma=0.0001, kernel=poly ................................\n",
            "[CV] .... C=0.1, gamma=0.0001, kernel=poly, score=0.523, total=   8.9s\n",
            "[CV] C=0.1, gamma=0.0001, kernel=poly ................................\n",
            "[CV] .... C=0.1, gamma=0.0001, kernel=poly, score=0.523, total=   8.9s\n",
            "[CV] C=1, gamma=1, kernel=rbf ........................................\n",
            "[CV] ............ C=1, gamma=1, kernel=rbf, score=0.941, total=   8.0s\n",
            "[CV] C=1, gamma=1, kernel=rbf ........................................\n",
            "[CV] ............ C=1, gamma=1, kernel=rbf, score=0.932, total=   7.9s\n",
            "[CV] C=1, gamma=1, kernel=rbf ........................................\n",
            "[CV] ............ C=1, gamma=1, kernel=rbf, score=0.936, total=   7.9s\n",
            "[CV] C=1, gamma=1, kernel=rbf ........................................\n",
            "[CV] ............ C=1, gamma=1, kernel=rbf, score=0.935, total=   8.0s\n",
            "[CV] C=1, gamma=1, kernel=rbf ........................................\n",
            "[CV] ............ C=1, gamma=1, kernel=rbf, score=0.933, total=   8.0s\n",
            "[CV] C=1, gamma=1, kernel=linear .....................................\n",
            "[CV] ......... C=1, gamma=1, kernel=linear, score=0.938, total=   4.3s\n",
            "[CV] C=1, gamma=1, kernel=linear .....................................\n",
            "[CV] ......... C=1, gamma=1, kernel=linear, score=0.938, total=   4.2s\n",
            "[CV] C=1, gamma=1, kernel=linear .....................................\n",
            "[CV] ......... C=1, gamma=1, kernel=linear, score=0.945, total=   4.2s\n",
            "[CV] C=1, gamma=1, kernel=linear .....................................\n",
            "[CV] ......... C=1, gamma=1, kernel=linear, score=0.942, total=   4.2s\n",
            "[CV] C=1, gamma=1, kernel=linear .....................................\n",
            "[CV] ......... C=1, gamma=1, kernel=linear, score=0.935, total=   4.2s\n",
            "[CV] C=1, gamma=1, kernel=poly .......................................\n",
            "[CV] ........... C=1, gamma=1, kernel=poly, score=0.873, total=   9.7s\n",
            "[CV] C=1, gamma=1, kernel=poly .......................................\n",
            "[CV] ........... C=1, gamma=1, kernel=poly, score=0.881, total=   9.6s\n",
            "[CV] C=1, gamma=1, kernel=poly .......................................\n",
            "[CV] ........... C=1, gamma=1, kernel=poly, score=0.872, total=   9.7s\n",
            "[CV] C=1, gamma=1, kernel=poly .......................................\n",
            "[CV] ........... C=1, gamma=1, kernel=poly, score=0.883, total=   9.7s\n",
            "[CV] C=1, gamma=1, kernel=poly .......................................\n",
            "[CV] ........... C=1, gamma=1, kernel=poly, score=0.878, total=   9.7s\n",
            "[CV] C=1, gamma=0.1, kernel=rbf ......................................\n",
            "[CV] .......... C=1, gamma=0.1, kernel=rbf, score=0.928, total=   6.2s\n",
            "[CV] C=1, gamma=0.1, kernel=rbf ......................................\n",
            "[CV] .......... C=1, gamma=0.1, kernel=rbf, score=0.918, total=   6.1s\n",
            "[CV] C=1, gamma=0.1, kernel=rbf ......................................\n",
            "[CV] .......... C=1, gamma=0.1, kernel=rbf, score=0.928, total=   6.1s\n",
            "[CV] C=1, gamma=0.1, kernel=rbf ......................................\n",
            "[CV] .......... C=1, gamma=0.1, kernel=rbf, score=0.916, total=   6.2s\n",
            "[CV] C=1, gamma=0.1, kernel=rbf ......................................\n",
            "[CV] .......... C=1, gamma=0.1, kernel=rbf, score=0.919, total=   6.2s\n",
            "[CV] C=1, gamma=0.1, kernel=linear ...................................\n",
            "[CV] ....... C=1, gamma=0.1, kernel=linear, score=0.938, total=   4.3s\n",
            "[CV] C=1, gamma=0.1, kernel=linear ...................................\n",
            "[CV] ....... C=1, gamma=0.1, kernel=linear, score=0.938, total=   4.2s\n",
            "[CV] C=1, gamma=0.1, kernel=linear ...................................\n",
            "[CV] ....... C=1, gamma=0.1, kernel=linear, score=0.945, total=   4.2s\n",
            "[CV] C=1, gamma=0.1, kernel=linear ...................................\n",
            "[CV] ....... C=1, gamma=0.1, kernel=linear, score=0.942, total=   4.2s\n",
            "[CV] C=1, gamma=0.1, kernel=linear ...................................\n",
            "[CV] ....... C=1, gamma=0.1, kernel=linear, score=0.935, total=   4.2s\n",
            "[CV] C=1, gamma=0.1, kernel=poly .....................................\n",
            "[CV] ......... C=1, gamma=0.1, kernel=poly, score=0.523, total=   9.1s\n",
            "[CV] C=1, gamma=0.1, kernel=poly .....................................\n",
            "[CV] ......... C=1, gamma=0.1, kernel=poly, score=0.523, total=   9.1s\n",
            "[CV] C=1, gamma=0.1, kernel=poly .....................................\n",
            "[CV] ......... C=1, gamma=0.1, kernel=poly, score=0.523, total=   9.0s\n",
            "[CV] C=1, gamma=0.1, kernel=poly .....................................\n",
            "[CV] ......... C=1, gamma=0.1, kernel=poly, score=0.523, total=   9.1s\n",
            "[CV] C=1, gamma=0.1, kernel=poly .....................................\n",
            "[CV] ......... C=1, gamma=0.1, kernel=poly, score=0.523, total=   9.0s\n",
            "[CV] C=1, gamma=0.01, kernel=rbf .....................................\n",
            "[CV] ......... C=1, gamma=0.01, kernel=rbf, score=0.899, total=   9.8s\n",
            "[CV] C=1, gamma=0.01, kernel=rbf .....................................\n",
            "[CV] ......... C=1, gamma=0.01, kernel=rbf, score=0.885, total=   9.8s\n",
            "[CV] C=1, gamma=0.01, kernel=rbf .....................................\n",
            "[CV] ......... C=1, gamma=0.01, kernel=rbf, score=0.881, total=   9.7s\n",
            "[CV] C=1, gamma=0.01, kernel=rbf .....................................\n",
            "[CV] ......... C=1, gamma=0.01, kernel=rbf, score=0.896, total=   9.6s\n",
            "[CV] C=1, gamma=0.01, kernel=rbf .....................................\n",
            "[CV] ......... C=1, gamma=0.01, kernel=rbf, score=0.896, total=   9.6s\n",
            "[CV] C=1, gamma=0.01, kernel=linear ..................................\n",
            "[CV] ...... C=1, gamma=0.01, kernel=linear, score=0.938, total=   4.3s\n",
            "[CV] C=1, gamma=0.01, kernel=linear ..................................\n",
            "[CV] ...... C=1, gamma=0.01, kernel=linear, score=0.938, total=   4.2s\n",
            "[CV] C=1, gamma=0.01, kernel=linear ..................................\n",
            "[CV] ...... C=1, gamma=0.01, kernel=linear, score=0.945, total=   4.2s\n",
            "[CV] C=1, gamma=0.01, kernel=linear ..................................\n",
            "[CV] ...... C=1, gamma=0.01, kernel=linear, score=0.942, total=   4.2s\n",
            "[CV] C=1, gamma=0.01, kernel=linear ..................................\n",
            "[CV] ...... C=1, gamma=0.01, kernel=linear, score=0.935, total=   4.3s\n",
            "[CV] C=1, gamma=0.01, kernel=poly ....................................\n",
            "[CV] ........ C=1, gamma=0.01, kernel=poly, score=0.523, total=   9.1s\n",
            "[CV] C=1, gamma=0.01, kernel=poly ....................................\n",
            "[CV] ........ C=1, gamma=0.01, kernel=poly, score=0.523, total=   9.1s\n",
            "[CV] C=1, gamma=0.01, kernel=poly ....................................\n",
            "[CV] ........ C=1, gamma=0.01, kernel=poly, score=0.523, total=   9.1s\n",
            "[CV] C=1, gamma=0.01, kernel=poly ....................................\n",
            "[CV] ........ C=1, gamma=0.01, kernel=poly, score=0.523, total=   9.0s\n",
            "[CV] C=1, gamma=0.01, kernel=poly ....................................\n",
            "[CV] ........ C=1, gamma=0.01, kernel=poly, score=0.523, total=   9.1s\n",
            "[CV] C=1, gamma=0.001, kernel=rbf ....................................\n",
            "[CV] ........ C=1, gamma=0.001, kernel=rbf, score=0.523, total=   9.9s\n",
            "[CV] C=1, gamma=0.001, kernel=rbf ....................................\n",
            "[CV] ........ C=1, gamma=0.001, kernel=rbf, score=0.523, total=   9.9s\n",
            "[CV] C=1, gamma=0.001, kernel=rbf ....................................\n",
            "[CV] ........ C=1, gamma=0.001, kernel=rbf, score=0.523, total=   9.9s\n",
            "[CV] C=1, gamma=0.001, kernel=rbf ....................................\n",
            "[CV] ........ C=1, gamma=0.001, kernel=rbf, score=0.523, total=   9.9s\n",
            "[CV] C=1, gamma=0.001, kernel=rbf ....................................\n",
            "[CV] ........ C=1, gamma=0.001, kernel=rbf, score=0.523, total=  10.0s\n",
            "[CV] C=1, gamma=0.001, kernel=linear .................................\n",
            "[CV] ..... C=1, gamma=0.001, kernel=linear, score=0.938, total=   4.3s\n",
            "[CV] C=1, gamma=0.001, kernel=linear .................................\n",
            "[CV] ..... C=1, gamma=0.001, kernel=linear, score=0.938, total=   4.2s\n",
            "[CV] C=1, gamma=0.001, kernel=linear .................................\n",
            "[CV] ..... C=1, gamma=0.001, kernel=linear, score=0.945, total=   4.2s\n",
            "[CV] C=1, gamma=0.001, kernel=linear .................................\n",
            "[CV] ..... C=1, gamma=0.001, kernel=linear, score=0.942, total=   4.2s\n",
            "[CV] C=1, gamma=0.001, kernel=linear .................................\n",
            "[CV] ..... C=1, gamma=0.001, kernel=linear, score=0.935, total=   4.3s\n",
            "[CV] C=1, gamma=0.001, kernel=poly ...................................\n",
            "[CV] ....... C=1, gamma=0.001, kernel=poly, score=0.523, total=   9.0s\n",
            "[CV] C=1, gamma=0.001, kernel=poly ...................................\n",
            "[CV] ....... C=1, gamma=0.001, kernel=poly, score=0.523, total=   9.1s\n",
            "[CV] C=1, gamma=0.001, kernel=poly ...................................\n",
            "[CV] ....... C=1, gamma=0.001, kernel=poly, score=0.523, total=   9.2s\n",
            "[CV] C=1, gamma=0.001, kernel=poly ...................................\n",
            "[CV] ....... C=1, gamma=0.001, kernel=poly, score=0.523, total=   9.2s\n",
            "[CV] C=1, gamma=0.001, kernel=poly ...................................\n",
            "[CV] ....... C=1, gamma=0.001, kernel=poly, score=0.523, total=   9.1s\n",
            "[CV] C=1, gamma=0.0001, kernel=rbf ...................................\n",
            "[CV] ....... C=1, gamma=0.0001, kernel=rbf, score=0.523, total=  10.0s\n",
            "[CV] C=1, gamma=0.0001, kernel=rbf ...................................\n",
            "[CV] ....... C=1, gamma=0.0001, kernel=rbf, score=0.523, total=  10.0s\n",
            "[CV] C=1, gamma=0.0001, kernel=rbf ...................................\n",
            "[CV] ....... C=1, gamma=0.0001, kernel=rbf, score=0.523, total=  10.0s\n",
            "[CV] C=1, gamma=0.0001, kernel=rbf ...................................\n",
            "[CV] ....... C=1, gamma=0.0001, kernel=rbf, score=0.523, total=  10.1s\n",
            "[CV] C=1, gamma=0.0001, kernel=rbf ...................................\n",
            "[CV] ....... C=1, gamma=0.0001, kernel=rbf, score=0.523, total=  10.1s\n",
            "[CV] C=1, gamma=0.0001, kernel=linear ................................\n",
            "[CV] .... C=1, gamma=0.0001, kernel=linear, score=0.938, total=   4.3s\n",
            "[CV] C=1, gamma=0.0001, kernel=linear ................................\n",
            "[CV] .... C=1, gamma=0.0001, kernel=linear, score=0.938, total=   4.2s\n",
            "[CV] C=1, gamma=0.0001, kernel=linear ................................\n",
            "[CV] .... C=1, gamma=0.0001, kernel=linear, score=0.945, total=   4.2s\n",
            "[CV] C=1, gamma=0.0001, kernel=linear ................................\n",
            "[CV] .... C=1, gamma=0.0001, kernel=linear, score=0.942, total=   4.3s\n",
            "[CV] C=1, gamma=0.0001, kernel=linear ................................\n",
            "[CV] .... C=1, gamma=0.0001, kernel=linear, score=0.935, total=   4.3s\n",
            "[CV] C=1, gamma=0.0001, kernel=poly ..................................\n",
            "[CV] ...... C=1, gamma=0.0001, kernel=poly, score=0.523, total=   9.1s\n",
            "[CV] C=1, gamma=0.0001, kernel=poly ..................................\n",
            "[CV] ...... C=1, gamma=0.0001, kernel=poly, score=0.523, total=   9.3s\n",
            "[CV] C=1, gamma=0.0001, kernel=poly ..................................\n",
            "[CV] ...... C=1, gamma=0.0001, kernel=poly, score=0.523, total=   9.1s\n",
            "[CV] C=1, gamma=0.0001, kernel=poly ..................................\n",
            "[CV] ...... C=1, gamma=0.0001, kernel=poly, score=0.523, total=   9.1s\n",
            "[CV] C=1, gamma=0.0001, kernel=poly ..................................\n",
            "[CV] ...... C=1, gamma=0.0001, kernel=poly, score=0.523, total=   9.1s\n",
            "[CV] C=10, gamma=1, kernel=rbf .......................................\n",
            "[CV] ........... C=10, gamma=1, kernel=rbf, score=0.941, total=   8.6s\n",
            "[CV] C=10, gamma=1, kernel=rbf .......................................\n",
            "[CV] ........... C=10, gamma=1, kernel=rbf, score=0.936, total=   8.5s\n",
            "[CV] C=10, gamma=1, kernel=rbf .......................................\n",
            "[CV] ........... C=10, gamma=1, kernel=rbf, score=0.939, total=   8.6s\n",
            "[CV] C=10, gamma=1, kernel=rbf .......................................\n",
            "[CV] ........... C=10, gamma=1, kernel=rbf, score=0.935, total=   8.6s\n",
            "[CV] C=10, gamma=1, kernel=rbf .......................................\n",
            "[CV] ........... C=10, gamma=1, kernel=rbf, score=0.939, total=   8.6s\n",
            "[CV] C=10, gamma=1, kernel=linear ....................................\n",
            "[CV] ........ C=10, gamma=1, kernel=linear, score=0.940, total=   4.2s\n",
            "[CV] C=10, gamma=1, kernel=linear ....................................\n",
            "[CV] ........ C=10, gamma=1, kernel=linear, score=0.930, total=   4.1s\n",
            "[CV] C=10, gamma=1, kernel=linear ....................................\n",
            "[CV] ........ C=10, gamma=1, kernel=linear, score=0.944, total=   4.2s\n",
            "[CV] C=10, gamma=1, kernel=linear ....................................\n",
            "[CV] ........ C=10, gamma=1, kernel=linear, score=0.940, total=   4.1s\n",
            "[CV] C=10, gamma=1, kernel=linear ....................................\n",
            "[CV] ........ C=10, gamma=1, kernel=linear, score=0.937, total=   4.2s\n",
            "[CV] C=10, gamma=1, kernel=poly ......................................\n",
            "[CV] .......... C=10, gamma=1, kernel=poly, score=0.877, total=   9.6s\n",
            "[CV] C=10, gamma=1, kernel=poly ......................................\n",
            "[CV] .......... C=10, gamma=1, kernel=poly, score=0.889, total=   9.7s\n",
            "[CV] C=10, gamma=1, kernel=poly ......................................\n",
            "[CV] .......... C=10, gamma=1, kernel=poly, score=0.882, total=   9.7s\n",
            "[CV] C=10, gamma=1, kernel=poly ......................................\n",
            "[CV] .......... C=10, gamma=1, kernel=poly, score=0.892, total=   9.7s\n",
            "[CV] C=10, gamma=1, kernel=poly ......................................\n",
            "[CV] .......... C=10, gamma=1, kernel=poly, score=0.882, total=   9.8s\n",
            "[CV] C=10, gamma=0.1, kernel=rbf .....................................\n",
            "[CV] ......... C=10, gamma=0.1, kernel=rbf, score=0.942, total=   4.9s\n",
            "[CV] C=10, gamma=0.1, kernel=rbf .....................................\n",
            "[CV] ......... C=10, gamma=0.1, kernel=rbf, score=0.935, total=   4.7s\n",
            "[CV] C=10, gamma=0.1, kernel=rbf .....................................\n",
            "[CV] ......... C=10, gamma=0.1, kernel=rbf, score=0.945, total=   4.8s\n",
            "[CV] C=10, gamma=0.1, kernel=rbf .....................................\n",
            "[CV] ......... C=10, gamma=0.1, kernel=rbf, score=0.943, total=   4.8s\n",
            "[CV] C=10, gamma=0.1, kernel=rbf .....................................\n",
            "[CV] ......... C=10, gamma=0.1, kernel=rbf, score=0.938, total=   4.7s\n",
            "[CV] C=10, gamma=0.1, kernel=linear ..................................\n",
            "[CV] ...... C=10, gamma=0.1, kernel=linear, score=0.940, total=   4.2s\n",
            "[CV] C=10, gamma=0.1, kernel=linear ..................................\n",
            "[CV] ...... C=10, gamma=0.1, kernel=linear, score=0.930, total=   4.1s\n",
            "[CV] C=10, gamma=0.1, kernel=linear ..................................\n",
            "[CV] ...... C=10, gamma=0.1, kernel=linear, score=0.944, total=   4.2s\n",
            "[CV] C=10, gamma=0.1, kernel=linear ..................................\n",
            "[CV] ...... C=10, gamma=0.1, kernel=linear, score=0.940, total=   4.1s\n",
            "[CV] C=10, gamma=0.1, kernel=linear ..................................\n",
            "[CV] ...... C=10, gamma=0.1, kernel=linear, score=0.937, total=   4.2s\n",
            "[CV] C=10, gamma=0.1, kernel=poly ....................................\n",
            "[CV] ........ C=10, gamma=0.1, kernel=poly, score=0.523, total=   9.5s\n",
            "[CV] C=10, gamma=0.1, kernel=poly ....................................\n",
            "[CV] ........ C=10, gamma=0.1, kernel=poly, score=0.523, total=   9.3s\n",
            "[CV] C=10, gamma=0.1, kernel=poly ....................................\n",
            "[CV] ........ C=10, gamma=0.1, kernel=poly, score=0.523, total=   9.3s\n",
            "[CV] C=10, gamma=0.1, kernel=poly ....................................\n",
            "[CV] ........ C=10, gamma=0.1, kernel=poly, score=0.523, total=   9.4s\n",
            "[CV] C=10, gamma=0.1, kernel=poly ....................................\n",
            "[CV] ........ C=10, gamma=0.1, kernel=poly, score=0.523, total=   9.6s\n",
            "[CV] C=10, gamma=0.01, kernel=rbf ....................................\n",
            "[CV] ........ C=10, gamma=0.01, kernel=rbf, score=0.928, total=   6.1s\n",
            "[CV] C=10, gamma=0.01, kernel=rbf ....................................\n",
            "[CV] ........ C=10, gamma=0.01, kernel=rbf, score=0.919, total=   6.0s\n",
            "[CV] C=10, gamma=0.01, kernel=rbf ....................................\n",
            "[CV] ........ C=10, gamma=0.01, kernel=rbf, score=0.930, total=   6.0s\n",
            "[CV] C=10, gamma=0.01, kernel=rbf ....................................\n",
            "[CV] ........ C=10, gamma=0.01, kernel=rbf, score=0.917, total=   6.0s\n",
            "[CV] C=10, gamma=0.01, kernel=rbf ....................................\n",
            "[CV] ........ C=10, gamma=0.01, kernel=rbf, score=0.919, total=   6.0s\n",
            "[CV] C=10, gamma=0.01, kernel=linear .................................\n",
            "[CV] ..... C=10, gamma=0.01, kernel=linear, score=0.940, total=   4.2s\n",
            "[CV] C=10, gamma=0.01, kernel=linear .................................\n",
            "[CV] ..... C=10, gamma=0.01, kernel=linear, score=0.930, total=   4.2s\n",
            "[CV] C=10, gamma=0.01, kernel=linear .................................\n",
            "[CV] ..... C=10, gamma=0.01, kernel=linear, score=0.944, total=   4.2s\n",
            "[CV] C=10, gamma=0.01, kernel=linear .................................\n",
            "[CV] ..... C=10, gamma=0.01, kernel=linear, score=0.940, total=   4.2s\n",
            "[CV] C=10, gamma=0.01, kernel=linear .................................\n",
            "[CV] ..... C=10, gamma=0.01, kernel=linear, score=0.937, total=   4.2s\n",
            "[CV] C=10, gamma=0.01, kernel=poly ...................................\n",
            "[CV] ....... C=10, gamma=0.01, kernel=poly, score=0.523, total=   9.3s\n",
            "[CV] C=10, gamma=0.01, kernel=poly ...................................\n",
            "[CV] ....... C=10, gamma=0.01, kernel=poly, score=0.523, total=   9.2s\n",
            "[CV] C=10, gamma=0.01, kernel=poly ...................................\n",
            "[CV] ....... C=10, gamma=0.01, kernel=poly, score=0.523, total=   9.3s\n",
            "[CV] C=10, gamma=0.01, kernel=poly ...................................\n",
            "[CV] ....... C=10, gamma=0.01, kernel=poly, score=0.523, total=   9.3s\n",
            "[CV] C=10, gamma=0.01, kernel=poly ...................................\n",
            "[CV] ....... C=10, gamma=0.01, kernel=poly, score=0.523, total=   9.1s\n",
            "[CV] C=10, gamma=0.001, kernel=rbf ...................................\n",
            "[CV] ....... C=10, gamma=0.001, kernel=rbf, score=0.897, total=   9.7s\n",
            "[CV] C=10, gamma=0.001, kernel=rbf ...................................\n",
            "[CV] ....... C=10, gamma=0.001, kernel=rbf, score=0.888, total=  10.0s\n",
            "[CV] C=10, gamma=0.001, kernel=rbf ...................................\n",
            "[CV] ....... C=10, gamma=0.001, kernel=rbf, score=0.887, total=  10.0s\n",
            "[CV] C=10, gamma=0.001, kernel=rbf ...................................\n",
            "[CV] ....... C=10, gamma=0.001, kernel=rbf, score=0.895, total=   9.8s\n",
            "[CV] C=10, gamma=0.001, kernel=rbf ...................................\n",
            "[CV] ....... C=10, gamma=0.001, kernel=rbf, score=0.900, total=   9.8s\n",
            "[CV] C=10, gamma=0.001, kernel=linear ................................\n",
            "[CV] .... C=10, gamma=0.001, kernel=linear, score=0.940, total=   4.3s\n",
            "[CV] C=10, gamma=0.001, kernel=linear ................................\n",
            "[CV] .... C=10, gamma=0.001, kernel=linear, score=0.930, total=   4.3s\n",
            "[CV] C=10, gamma=0.001, kernel=linear ................................\n",
            "[CV] .... C=10, gamma=0.001, kernel=linear, score=0.944, total=   4.2s\n",
            "[CV] C=10, gamma=0.001, kernel=linear ................................\n",
            "[CV] .... C=10, gamma=0.001, kernel=linear, score=0.940, total=   4.2s\n",
            "[CV] C=10, gamma=0.001, kernel=linear ................................\n",
            "[CV] .... C=10, gamma=0.001, kernel=linear, score=0.937, total=   4.3s\n",
            "[CV] C=10, gamma=0.001, kernel=poly ..................................\n",
            "[CV] ...... C=10, gamma=0.001, kernel=poly, score=0.523, total=   9.4s\n",
            "[CV] C=10, gamma=0.001, kernel=poly ..................................\n",
            "[CV] ...... C=10, gamma=0.001, kernel=poly, score=0.523, total=   9.5s\n",
            "[CV] C=10, gamma=0.001, kernel=poly ..................................\n",
            "[CV] ...... C=10, gamma=0.001, kernel=poly, score=0.523, total=   9.5s\n",
            "[CV] C=10, gamma=0.001, kernel=poly ..................................\n",
            "[CV] ...... C=10, gamma=0.001, kernel=poly, score=0.523, total=   9.3s\n",
            "[CV] C=10, gamma=0.001, kernel=poly ..................................\n",
            "[CV] ...... C=10, gamma=0.001, kernel=poly, score=0.523, total=   9.4s\n",
            "[CV] C=10, gamma=0.0001, kernel=rbf ..................................\n",
            "[CV] ...... C=10, gamma=0.0001, kernel=rbf, score=0.523, total=  10.3s\n",
            "[CV] C=10, gamma=0.0001, kernel=rbf ..................................\n",
            "[CV] ...... C=10, gamma=0.0001, kernel=rbf, score=0.523, total=  10.3s\n",
            "[CV] C=10, gamma=0.0001, kernel=rbf ..................................\n",
            "[CV] ...... C=10, gamma=0.0001, kernel=rbf, score=0.523, total=  10.3s\n",
            "[CV] C=10, gamma=0.0001, kernel=rbf ..................................\n",
            "[CV] ...... C=10, gamma=0.0001, kernel=rbf, score=0.523, total=   9.9s\n",
            "[CV] C=10, gamma=0.0001, kernel=rbf ..................................\n",
            "[CV] ...... C=10, gamma=0.0001, kernel=rbf, score=0.523, total=   9.9s\n",
            "[CV] C=10, gamma=0.0001, kernel=linear ...............................\n",
            "[CV] ... C=10, gamma=0.0001, kernel=linear, score=0.940, total=   4.2s\n",
            "[CV] C=10, gamma=0.0001, kernel=linear ...............................\n",
            "[CV] ... C=10, gamma=0.0001, kernel=linear, score=0.930, total=   4.1s\n",
            "[CV] C=10, gamma=0.0001, kernel=linear ...............................\n",
            "[CV] ... C=10, gamma=0.0001, kernel=linear, score=0.944, total=   4.2s\n",
            "[CV] C=10, gamma=0.0001, kernel=linear ...............................\n",
            "[CV] ... C=10, gamma=0.0001, kernel=linear, score=0.940, total=   4.1s\n",
            "[CV] C=10, gamma=0.0001, kernel=linear ...............................\n",
            "[CV] ... C=10, gamma=0.0001, kernel=linear, score=0.937, total=   4.1s\n",
            "[CV] C=10, gamma=0.0001, kernel=poly .................................\n",
            "[CV] ..... C=10, gamma=0.0001, kernel=poly, score=0.523, total=   9.0s\n",
            "[CV] C=10, gamma=0.0001, kernel=poly .................................\n",
            "[CV] ..... C=10, gamma=0.0001, kernel=poly, score=0.523, total=   9.1s\n",
            "[CV] C=10, gamma=0.0001, kernel=poly .................................\n",
            "[CV] ..... C=10, gamma=0.0001, kernel=poly, score=0.523, total=   9.1s\n",
            "[CV] C=10, gamma=0.0001, kernel=poly .................................\n",
            "[CV] ..... C=10, gamma=0.0001, kernel=poly, score=0.523, total=   9.1s\n",
            "[CV] C=10, gamma=0.0001, kernel=poly .................................\n",
            "[CV] ..... C=10, gamma=0.0001, kernel=poly, score=0.523, total=   9.2s\n",
            "[CV] C=100, gamma=1, kernel=rbf ......................................\n",
            "[CV] .......... C=100, gamma=1, kernel=rbf, score=0.941, total=   8.6s\n",
            "[CV] C=100, gamma=1, kernel=rbf ......................................\n",
            "[CV] .......... C=100, gamma=1, kernel=rbf, score=0.936, total=   8.5s\n",
            "[CV] C=100, gamma=1, kernel=rbf ......................................\n",
            "[CV] .......... C=100, gamma=1, kernel=rbf, score=0.939, total=   8.5s\n",
            "[CV] C=100, gamma=1, kernel=rbf ......................................\n",
            "[CV] .......... C=100, gamma=1, kernel=rbf, score=0.935, total=   8.5s\n",
            "[CV] C=100, gamma=1, kernel=rbf ......................................\n",
            "[CV] .......... C=100, gamma=1, kernel=rbf, score=0.939, total=   8.6s\n",
            "[CV] C=100, gamma=1, kernel=linear ...................................\n",
            "[CV] ....... C=100, gamma=1, kernel=linear, score=0.940, total=   4.3s\n",
            "[CV] C=100, gamma=1, kernel=linear ...................................\n",
            "[CV] ....... C=100, gamma=1, kernel=linear, score=0.930, total=   4.1s\n",
            "[CV] C=100, gamma=1, kernel=linear ...................................\n",
            "[CV] ....... C=100, gamma=1, kernel=linear, score=0.944, total=   4.2s\n",
            "[CV] C=100, gamma=1, kernel=linear ...................................\n",
            "[CV] ....... C=100, gamma=1, kernel=linear, score=0.940, total=   4.1s\n",
            "[CV] C=100, gamma=1, kernel=linear ...................................\n",
            "[CV] ....... C=100, gamma=1, kernel=linear, score=0.937, total=   4.2s\n",
            "[CV] C=100, gamma=1, kernel=poly .....................................\n",
            "[CV] ......... C=100, gamma=1, kernel=poly, score=0.877, total=   9.8s\n",
            "[CV] C=100, gamma=1, kernel=poly .....................................\n",
            "[CV] ......... C=100, gamma=1, kernel=poly, score=0.889, total=   9.7s\n",
            "[CV] C=100, gamma=1, kernel=poly .....................................\n",
            "[CV] ......... C=100, gamma=1, kernel=poly, score=0.882, total=   9.7s\n",
            "[CV] C=100, gamma=1, kernel=poly .....................................\n",
            "[CV] ......... C=100, gamma=1, kernel=poly, score=0.892, total=   9.7s\n",
            "[CV] C=100, gamma=1, kernel=poly .....................................\n",
            "[CV] ......... C=100, gamma=1, kernel=poly, score=0.882, total=   9.7s\n",
            "[CV] C=100, gamma=0.1, kernel=rbf ....................................\n",
            "[CV] ........ C=100, gamma=0.1, kernel=rbf, score=0.942, total=   4.8s\n",
            "[CV] C=100, gamma=0.1, kernel=rbf ....................................\n",
            "[CV] ........ C=100, gamma=0.1, kernel=rbf, score=0.935, total=   4.7s\n",
            "[CV] C=100, gamma=0.1, kernel=rbf ....................................\n",
            "[CV] ........ C=100, gamma=0.1, kernel=rbf, score=0.945, total=   4.8s\n",
            "[CV] C=100, gamma=0.1, kernel=rbf ....................................\n",
            "[CV] ........ C=100, gamma=0.1, kernel=rbf, score=0.942, total=   4.7s\n",
            "[CV] C=100, gamma=0.1, kernel=rbf ....................................\n",
            "[CV] ........ C=100, gamma=0.1, kernel=rbf, score=0.938, total=   4.7s\n",
            "[CV] C=100, gamma=0.1, kernel=linear .................................\n",
            "[CV] ..... C=100, gamma=0.1, kernel=linear, score=0.940, total=   4.2s\n",
            "[CV] C=100, gamma=0.1, kernel=linear .................................\n",
            "[CV] ..... C=100, gamma=0.1, kernel=linear, score=0.930, total=   4.1s\n",
            "[CV] C=100, gamma=0.1, kernel=linear .................................\n",
            "[CV] ..... C=100, gamma=0.1, kernel=linear, score=0.944, total=   4.2s\n",
            "[CV] C=100, gamma=0.1, kernel=linear .................................\n",
            "[CV] ..... C=100, gamma=0.1, kernel=linear, score=0.940, total=   4.1s\n",
            "[CV] C=100, gamma=0.1, kernel=linear .................................\n",
            "[CV] ..... C=100, gamma=0.1, kernel=linear, score=0.937, total=   4.2s\n",
            "[CV] C=100, gamma=0.1, kernel=poly ...................................\n",
            "[CV] ....... C=100, gamma=0.1, kernel=poly, score=0.523, total=   9.4s\n",
            "[CV] C=100, gamma=0.1, kernel=poly ...................................\n",
            "[CV] ....... C=100, gamma=0.1, kernel=poly, score=0.523, total=   9.4s\n",
            "[CV] C=100, gamma=0.1, kernel=poly ...................................\n",
            "[CV] ....... C=100, gamma=0.1, kernel=poly, score=0.523, total=   9.8s\n",
            "[CV] C=100, gamma=0.1, kernel=poly ...................................\n",
            "[CV] ....... C=100, gamma=0.1, kernel=poly, score=0.523, total=   9.9s\n",
            "[CV] C=100, gamma=0.1, kernel=poly ...................................\n",
            "[CV] ....... C=100, gamma=0.1, kernel=poly, score=0.523, total=   9.3s\n",
            "[CV] C=100, gamma=0.01, kernel=rbf ...................................\n",
            "[CV] ....... C=100, gamma=0.01, kernel=rbf, score=0.940, total=   4.6s\n",
            "[CV] C=100, gamma=0.01, kernel=rbf ...................................\n",
            "[CV] ....... C=100, gamma=0.01, kernel=rbf, score=0.936, total=   4.4s\n",
            "[CV] C=100, gamma=0.01, kernel=rbf ...................................\n",
            "[CV] ....... C=100, gamma=0.01, kernel=rbf, score=0.943, total=   4.5s\n",
            "[CV] C=100, gamma=0.01, kernel=rbf ...................................\n",
            "[CV] ....... C=100, gamma=0.01, kernel=rbf, score=0.943, total=   4.5s\n",
            "[CV] C=100, gamma=0.01, kernel=rbf ...................................\n",
            "[CV] ....... C=100, gamma=0.01, kernel=rbf, score=0.936, total=   4.5s\n",
            "[CV] C=100, gamma=0.01, kernel=linear ................................\n",
            "[CV] .... C=100, gamma=0.01, kernel=linear, score=0.940, total=   4.2s\n",
            "[CV] C=100, gamma=0.01, kernel=linear ................................\n",
            "[CV] .... C=100, gamma=0.01, kernel=linear, score=0.930, total=   4.1s\n",
            "[CV] C=100, gamma=0.01, kernel=linear ................................\n",
            "[CV] .... C=100, gamma=0.01, kernel=linear, score=0.944, total=   4.2s\n",
            "[CV] C=100, gamma=0.01, kernel=linear ................................\n",
            "[CV] .... C=100, gamma=0.01, kernel=linear, score=0.940, total=   4.1s\n",
            "[CV] C=100, gamma=0.01, kernel=linear ................................\n",
            "[CV] .... C=100, gamma=0.01, kernel=linear, score=0.937, total=   4.1s\n",
            "[CV] C=100, gamma=0.01, kernel=poly ..................................\n",
            "[CV] ...... C=100, gamma=0.01, kernel=poly, score=0.523, total=   9.0s\n",
            "[CV] C=100, gamma=0.01, kernel=poly ..................................\n",
            "[CV] ...... C=100, gamma=0.01, kernel=poly, score=0.523, total=   9.0s\n",
            "[CV] C=100, gamma=0.01, kernel=poly ..................................\n",
            "[CV] ...... C=100, gamma=0.01, kernel=poly, score=0.523, total=   9.0s\n",
            "[CV] C=100, gamma=0.01, kernel=poly ..................................\n",
            "[CV] ...... C=100, gamma=0.01, kernel=poly, score=0.523, total=   9.1s\n",
            "[CV] C=100, gamma=0.01, kernel=poly ..................................\n",
            "[CV] ...... C=100, gamma=0.01, kernel=poly, score=0.523, total=   9.1s\n",
            "[CV] C=100, gamma=0.001, kernel=rbf ..................................\n",
            "[CV] ...... C=100, gamma=0.001, kernel=rbf, score=0.928, total=   5.9s\n",
            "[CV] C=100, gamma=0.001, kernel=rbf ..................................\n",
            "[CV] ...... C=100, gamma=0.001, kernel=rbf, score=0.919, total=   5.8s\n",
            "[CV] C=100, gamma=0.001, kernel=rbf ..................................\n",
            "[CV] ...... C=100, gamma=0.001, kernel=rbf, score=0.930, total=   5.9s\n",
            "[CV] C=100, gamma=0.001, kernel=rbf ..................................\n",
            "[CV] ...... C=100, gamma=0.001, kernel=rbf, score=0.917, total=   5.8s\n",
            "[CV] C=100, gamma=0.001, kernel=rbf ..................................\n",
            "[CV] ...... C=100, gamma=0.001, kernel=rbf, score=0.920, total=   5.9s\n",
            "[CV] C=100, gamma=0.001, kernel=linear ...............................\n",
            "[CV] ... C=100, gamma=0.001, kernel=linear, score=0.940, total=   4.2s\n",
            "[CV] C=100, gamma=0.001, kernel=linear ...............................\n",
            "[CV] ... C=100, gamma=0.001, kernel=linear, score=0.930, total=   4.2s\n",
            "[CV] C=100, gamma=0.001, kernel=linear ...............................\n",
            "[CV] ... C=100, gamma=0.001, kernel=linear, score=0.944, total=   4.2s\n",
            "[CV] C=100, gamma=0.001, kernel=linear ...............................\n",
            "[CV] ... C=100, gamma=0.001, kernel=linear, score=0.940, total=   4.1s\n",
            "[CV] C=100, gamma=0.001, kernel=linear ...............................\n",
            "[CV] ... C=100, gamma=0.001, kernel=linear, score=0.937, total=   4.2s\n",
            "[CV] C=100, gamma=0.001, kernel=poly .................................\n",
            "[CV] ..... C=100, gamma=0.001, kernel=poly, score=0.523, total=   9.0s\n",
            "[CV] C=100, gamma=0.001, kernel=poly .................................\n",
            "[CV] ..... C=100, gamma=0.001, kernel=poly, score=0.523, total=   9.1s\n",
            "[CV] C=100, gamma=0.001, kernel=poly .................................\n",
            "[CV] ..... C=100, gamma=0.001, kernel=poly, score=0.523, total=   9.0s\n",
            "[CV] C=100, gamma=0.001, kernel=poly .................................\n",
            "[CV] ..... C=100, gamma=0.001, kernel=poly, score=0.523, total=   9.1s\n",
            "[CV] C=100, gamma=0.001, kernel=poly .................................\n",
            "[CV] ..... C=100, gamma=0.001, kernel=poly, score=0.523, total=   9.0s\n",
            "[CV] C=100, gamma=0.0001, kernel=rbf .................................\n",
            "[CV] ..... C=100, gamma=0.0001, kernel=rbf, score=0.897, total=   9.6s\n",
            "[CV] C=100, gamma=0.0001, kernel=rbf .................................\n",
            "[CV] ..... C=100, gamma=0.0001, kernel=rbf, score=0.888, total=   9.6s\n",
            "[CV] C=100, gamma=0.0001, kernel=rbf .................................\n",
            "[CV] ..... C=100, gamma=0.0001, kernel=rbf, score=0.887, total=   9.6s\n",
            "[CV] C=100, gamma=0.0001, kernel=rbf .................................\n",
            "[CV] ..... C=100, gamma=0.0001, kernel=rbf, score=0.894, total=   9.6s\n",
            "[CV] C=100, gamma=0.0001, kernel=rbf .................................\n",
            "[CV] ..... C=100, gamma=0.0001, kernel=rbf, score=0.900, total=   9.6s\n",
            "[CV] C=100, gamma=0.0001, kernel=linear ..............................\n",
            "[CV] .. C=100, gamma=0.0001, kernel=linear, score=0.940, total=   4.2s\n",
            "[CV] C=100, gamma=0.0001, kernel=linear ..............................\n",
            "[CV] .. C=100, gamma=0.0001, kernel=linear, score=0.930, total=   4.1s\n",
            "[CV] C=100, gamma=0.0001, kernel=linear ..............................\n",
            "[CV] .. C=100, gamma=0.0001, kernel=linear, score=0.944, total=   4.2s\n",
            "[CV] C=100, gamma=0.0001, kernel=linear ..............................\n",
            "[CV] .. C=100, gamma=0.0001, kernel=linear, score=0.940, total=   4.1s\n",
            "[CV] C=100, gamma=0.0001, kernel=linear ..............................\n",
            "[CV] .. C=100, gamma=0.0001, kernel=linear, score=0.937, total=   4.2s\n",
            "[CV] C=100, gamma=0.0001, kernel=poly ................................\n",
            "[CV] .... C=100, gamma=0.0001, kernel=poly, score=0.523, total=   9.0s\n",
            "[CV] C=100, gamma=0.0001, kernel=poly ................................\n",
            "[CV] .... C=100, gamma=0.0001, kernel=poly, score=0.523, total=   9.0s\n",
            "[CV] C=100, gamma=0.0001, kernel=poly ................................\n",
            "[CV] .... C=100, gamma=0.0001, kernel=poly, score=0.523, total=   9.0s\n",
            "[CV] C=100, gamma=0.0001, kernel=poly ................................\n",
            "[CV] .... C=100, gamma=0.0001, kernel=poly, score=0.523, total=   9.0s\n",
            "[CV] C=100, gamma=0.0001, kernel=poly ................................\n",
            "[CV] .... C=100, gamma=0.0001, kernel=poly, score=0.523, total=   9.0s\n",
            "[CV] C=1000, gamma=1, kernel=rbf .....................................\n",
            "[CV] ......... C=1000, gamma=1, kernel=rbf, score=0.941, total=   8.5s\n",
            "[CV] C=1000, gamma=1, kernel=rbf .....................................\n",
            "[CV] ......... C=1000, gamma=1, kernel=rbf, score=0.936, total=   8.4s\n",
            "[CV] C=1000, gamma=1, kernel=rbf .....................................\n",
            "[CV] ......... C=1000, gamma=1, kernel=rbf, score=0.939, total=   8.5s\n",
            "[CV] C=1000, gamma=1, kernel=rbf .....................................\n",
            "[CV] ......... C=1000, gamma=1, kernel=rbf, score=0.935, total=   8.5s\n",
            "[CV] C=1000, gamma=1, kernel=rbf .....................................\n",
            "[CV] ......... C=1000, gamma=1, kernel=rbf, score=0.939, total=   8.5s\n",
            "[CV] C=1000, gamma=1, kernel=linear ..................................\n",
            "[CV] ...... C=1000, gamma=1, kernel=linear, score=0.940, total=   4.2s\n",
            "[CV] C=1000, gamma=1, kernel=linear ..................................\n",
            "[CV] ...... C=1000, gamma=1, kernel=linear, score=0.930, total=   4.1s\n",
            "[CV] C=1000, gamma=1, kernel=linear ..................................\n",
            "[CV] ...... C=1000, gamma=1, kernel=linear, score=0.944, total=   4.2s\n",
            "[CV] C=1000, gamma=1, kernel=linear ..................................\n",
            "[CV] ...... C=1000, gamma=1, kernel=linear, score=0.940, total=   4.1s\n",
            "[CV] C=1000, gamma=1, kernel=linear ..................................\n",
            "[CV] ...... C=1000, gamma=1, kernel=linear, score=0.937, total=   4.2s\n",
            "[CV] C=1000, gamma=1, kernel=poly ....................................\n",
            "[CV] ........ C=1000, gamma=1, kernel=poly, score=0.877, total=   9.9s\n",
            "[CV] C=1000, gamma=1, kernel=poly ....................................\n",
            "[CV] ........ C=1000, gamma=1, kernel=poly, score=0.889, total=   9.7s\n",
            "[CV] C=1000, gamma=1, kernel=poly ....................................\n",
            "[CV] ........ C=1000, gamma=1, kernel=poly, score=0.882, total=   9.8s\n",
            "[CV] C=1000, gamma=1, kernel=poly ....................................\n",
            "[CV] ........ C=1000, gamma=1, kernel=poly, score=0.892, total=   9.8s\n",
            "[CV] C=1000, gamma=1, kernel=poly ....................................\n",
            "[CV] ........ C=1000, gamma=1, kernel=poly, score=0.882, total=   9.9s\n",
            "[CV] C=1000, gamma=0.1, kernel=rbf ...................................\n",
            "[CV] ....... C=1000, gamma=0.1, kernel=rbf, score=0.942, total=   4.8s\n",
            "[CV] C=1000, gamma=0.1, kernel=rbf ...................................\n",
            "[CV] ....... C=1000, gamma=0.1, kernel=rbf, score=0.935, total=   4.7s\n",
            "[CV] C=1000, gamma=0.1, kernel=rbf ...................................\n",
            "[CV] ....... C=1000, gamma=0.1, kernel=rbf, score=0.945, total=   4.8s\n",
            "[CV] C=1000, gamma=0.1, kernel=rbf ...................................\n",
            "[CV] ....... C=1000, gamma=0.1, kernel=rbf, score=0.942, total=   4.8s\n",
            "[CV] C=1000, gamma=0.1, kernel=rbf ...................................\n",
            "[CV] ....... C=1000, gamma=0.1, kernel=rbf, score=0.938, total=   4.8s\n",
            "[CV] C=1000, gamma=0.1, kernel=linear ................................\n",
            "[CV] .... C=1000, gamma=0.1, kernel=linear, score=0.940, total=   4.3s\n",
            "[CV] C=1000, gamma=0.1, kernel=linear ................................\n",
            "[CV] .... C=1000, gamma=0.1, kernel=linear, score=0.930, total=   4.2s\n",
            "[CV] C=1000, gamma=0.1, kernel=linear ................................\n",
            "[CV] .... C=1000, gamma=0.1, kernel=linear, score=0.944, total=   4.2s\n",
            "[CV] C=1000, gamma=0.1, kernel=linear ................................\n",
            "[CV] .... C=1000, gamma=0.1, kernel=linear, score=0.940, total=   4.2s\n",
            "[CV] C=1000, gamma=0.1, kernel=linear ................................\n",
            "[CV] .... C=1000, gamma=0.1, kernel=linear, score=0.937, total=   4.2s\n",
            "[CV] C=1000, gamma=0.1, kernel=poly ..................................\n",
            "[CV] ...... C=1000, gamma=0.1, kernel=poly, score=0.873, total=   9.9s\n",
            "[CV] C=1000, gamma=0.1, kernel=poly ..................................\n",
            "[CV] ...... C=1000, gamma=0.1, kernel=poly, score=0.881, total=   9.8s\n",
            "[CV] C=1000, gamma=0.1, kernel=poly ..................................\n",
            "[CV] ...... C=1000, gamma=0.1, kernel=poly, score=0.872, total=   9.9s\n",
            "[CV] C=1000, gamma=0.1, kernel=poly ..................................\n",
            "[CV] ...... C=1000, gamma=0.1, kernel=poly, score=0.883, total=   9.9s\n",
            "[CV] C=1000, gamma=0.1, kernel=poly ..................................\n",
            "[CV] ...... C=1000, gamma=0.1, kernel=poly, score=0.878, total=   9.8s\n",
            "[CV] C=1000, gamma=0.01, kernel=rbf ..................................\n",
            "[CV] ...... C=1000, gamma=0.01, kernel=rbf, score=0.940, total=   4.5s\n",
            "[CV] C=1000, gamma=0.01, kernel=rbf ..................................\n",
            "[CV] ...... C=1000, gamma=0.01, kernel=rbf, score=0.930, total=   4.4s\n",
            "[CV] C=1000, gamma=0.01, kernel=rbf ..................................\n",
            "[CV] ...... C=1000, gamma=0.01, kernel=rbf, score=0.944, total=   4.5s\n",
            "[CV] C=1000, gamma=0.01, kernel=rbf ..................................\n",
            "[CV] ...... C=1000, gamma=0.01, kernel=rbf, score=0.940, total=   4.4s\n",
            "[CV] C=1000, gamma=0.01, kernel=rbf ..................................\n",
            "[CV] ...... C=1000, gamma=0.01, kernel=rbf, score=0.937, total=   4.4s\n",
            "[CV] C=1000, gamma=0.01, kernel=linear ...............................\n",
            "[CV] ... C=1000, gamma=0.01, kernel=linear, score=0.940, total=   4.2s\n",
            "[CV] C=1000, gamma=0.01, kernel=linear ...............................\n",
            "[CV] ... C=1000, gamma=0.01, kernel=linear, score=0.930, total=   4.1s\n",
            "[CV] C=1000, gamma=0.01, kernel=linear ...............................\n",
            "[CV] ... C=1000, gamma=0.01, kernel=linear, score=0.944, total=   4.2s\n",
            "[CV] C=1000, gamma=0.01, kernel=linear ...............................\n",
            "[CV] ... C=1000, gamma=0.01, kernel=linear, score=0.940, total=   4.1s\n",
            "[CV] C=1000, gamma=0.01, kernel=linear ...............................\n",
            "[CV] ... C=1000, gamma=0.01, kernel=linear, score=0.937, total=   4.2s\n",
            "[CV] C=1000, gamma=0.01, kernel=poly .................................\n",
            "[CV] ..... C=1000, gamma=0.01, kernel=poly, score=0.523, total=   9.2s\n",
            "[CV] C=1000, gamma=0.01, kernel=poly .................................\n",
            "[CV] ..... C=1000, gamma=0.01, kernel=poly, score=0.523, total=   9.1s\n",
            "[CV] C=1000, gamma=0.01, kernel=poly .................................\n",
            "[CV] ..... C=1000, gamma=0.01, kernel=poly, score=0.523, total=   9.2s\n",
            "[CV] C=1000, gamma=0.01, kernel=poly .................................\n",
            "[CV] ..... C=1000, gamma=0.01, kernel=poly, score=0.523, total=   9.2s\n",
            "[CV] C=1000, gamma=0.01, kernel=poly .................................\n",
            "[CV] ..... C=1000, gamma=0.01, kernel=poly, score=0.523, total=   9.2s\n",
            "[CV] C=1000, gamma=0.001, kernel=rbf .................................\n",
            "[CV] ..... C=1000, gamma=0.001, kernel=rbf, score=0.940, total=   4.5s\n",
            "[CV] C=1000, gamma=0.001, kernel=rbf .................................\n",
            "[CV] ..... C=1000, gamma=0.001, kernel=rbf, score=0.936, total=   4.5s\n",
            "[CV] C=1000, gamma=0.001, kernel=rbf .................................\n",
            "[CV] ..... C=1000, gamma=0.001, kernel=rbf, score=0.943, total=   4.5s\n",
            "[CV] C=1000, gamma=0.001, kernel=rbf .................................\n",
            "[CV] ..... C=1000, gamma=0.001, kernel=rbf, score=0.943, total=   4.4s\n",
            "[CV] C=1000, gamma=0.001, kernel=rbf .................................\n",
            "[CV] ..... C=1000, gamma=0.001, kernel=rbf, score=0.937, total=   4.5s\n",
            "[CV] C=1000, gamma=0.001, kernel=linear ..............................\n",
            "[CV] .. C=1000, gamma=0.001, kernel=linear, score=0.940, total=   4.2s\n",
            "[CV] C=1000, gamma=0.001, kernel=linear ..............................\n",
            "[CV] .. C=1000, gamma=0.001, kernel=linear, score=0.930, total=   4.1s\n",
            "[CV] C=1000, gamma=0.001, kernel=linear ..............................\n",
            "[CV] .. C=1000, gamma=0.001, kernel=linear, score=0.944, total=   4.2s\n",
            "[CV] C=1000, gamma=0.001, kernel=linear ..............................\n",
            "[CV] .. C=1000, gamma=0.001, kernel=linear, score=0.940, total=   4.1s\n",
            "[CV] C=1000, gamma=0.001, kernel=linear ..............................\n",
            "[CV] .. C=1000, gamma=0.001, kernel=linear, score=0.937, total=   4.2s\n",
            "[CV] C=1000, gamma=0.001, kernel=poly ................................\n",
            "[CV] .... C=1000, gamma=0.001, kernel=poly, score=0.523, total=   9.0s\n",
            "[CV] C=1000, gamma=0.001, kernel=poly ................................\n",
            "[CV] .... C=1000, gamma=0.001, kernel=poly, score=0.523, total=   9.0s\n",
            "[CV] C=1000, gamma=0.001, kernel=poly ................................\n",
            "[CV] .... C=1000, gamma=0.001, kernel=poly, score=0.523, total=   9.0s\n",
            "[CV] C=1000, gamma=0.001, kernel=poly ................................\n",
            "[CV] .... C=1000, gamma=0.001, kernel=poly, score=0.523, total=   9.0s\n",
            "[CV] C=1000, gamma=0.001, kernel=poly ................................\n",
            "[CV] .... C=1000, gamma=0.001, kernel=poly, score=0.523, total=   9.0s\n",
            "[CV] C=1000, gamma=0.0001, kernel=rbf ................................\n",
            "[CV] .... C=1000, gamma=0.0001, kernel=rbf, score=0.928, total=   5.9s\n",
            "[CV] C=1000, gamma=0.0001, kernel=rbf ................................\n",
            "[CV] .... C=1000, gamma=0.0001, kernel=rbf, score=0.919, total=   5.8s\n",
            "[CV] C=1000, gamma=0.0001, kernel=rbf ................................\n",
            "[CV] .... C=1000, gamma=0.0001, kernel=rbf, score=0.930, total=   5.9s\n",
            "[CV] C=1000, gamma=0.0001, kernel=rbf ................................\n",
            "[CV] .... C=1000, gamma=0.0001, kernel=rbf, score=0.917, total=   5.8s\n",
            "[CV] C=1000, gamma=0.0001, kernel=rbf ................................\n",
            "[CV] .... C=1000, gamma=0.0001, kernel=rbf, score=0.920, total=   5.9s\n",
            "[CV] C=1000, gamma=0.0001, kernel=linear .............................\n",
            "[CV] . C=1000, gamma=0.0001, kernel=linear, score=0.940, total=   4.2s\n",
            "[CV] C=1000, gamma=0.0001, kernel=linear .............................\n",
            "[CV] . C=1000, gamma=0.0001, kernel=linear, score=0.930, total=   4.1s\n",
            "[CV] C=1000, gamma=0.0001, kernel=linear .............................\n",
            "[CV] . C=1000, gamma=0.0001, kernel=linear, score=0.944, total=   4.2s\n",
            "[CV] C=1000, gamma=0.0001, kernel=linear .............................\n",
            "[CV] . C=1000, gamma=0.0001, kernel=linear, score=0.940, total=   4.2s\n",
            "[CV] C=1000, gamma=0.0001, kernel=linear .............................\n",
            "[CV] . C=1000, gamma=0.0001, kernel=linear, score=0.937, total=   4.2s\n",
            "[CV] C=1000, gamma=0.0001, kernel=poly ...............................\n",
            "[CV] ... C=1000, gamma=0.0001, kernel=poly, score=0.523, total=   9.2s\n",
            "[CV] C=1000, gamma=0.0001, kernel=poly ...............................\n",
            "[CV] ... C=1000, gamma=0.0001, kernel=poly, score=0.523, total=   9.1s\n",
            "[CV] C=1000, gamma=0.0001, kernel=poly ...............................\n",
            "[CV] ... C=1000, gamma=0.0001, kernel=poly, score=0.523, total=   9.2s\n",
            "[CV] C=1000, gamma=0.0001, kernel=poly ...............................\n",
            "[CV] ... C=1000, gamma=0.0001, kernel=poly, score=0.523, total=   9.1s\n",
            "[CV] C=1000, gamma=0.0001, kernel=poly ...............................\n",
            "[CV] ... C=1000, gamma=0.0001, kernel=poly, score=0.523, total=   9.1s\n"
          ],
          "name": "stdout"
        },
        {
          "output_type": "stream",
          "text": [
            "[Parallel(n_jobs=1)]: Done 375 out of 375 | elapsed: 44.8min finished\n"
          ],
          "name": "stderr"
        },
        {
          "output_type": "execute_result",
          "data": {
            "text/plain": [
              "GridSearchCV(cv=None, error_score=nan,\n",
              "             estimator=SVC(C=1.0, break_ties=False, cache_size=200,\n",
              "                           class_weight=None, coef0=0.0,\n",
              "                           decision_function_shape='ovr', degree=3,\n",
              "                           gamma='scale', kernel='rbf', max_iter=-1,\n",
              "                           probability=False, random_state=None, shrinking=True,\n",
              "                           tol=0.001, verbose=False),\n",
              "             iid='deprecated', n_jobs=None,\n",
              "             param_grid={'C': [0.1, 1, 10, 100, 1000],\n",
              "                         'gamma': [1, 0.1, 0.01, 0.001, 0.0001],\n",
              "                         'kernel': ['rbf', 'linear', 'poly']},\n",
              "             pre_dispatch='2*n_jobs', refit=True, return_train_score=False,\n",
              "             scoring=None, verbose=5)"
            ]
          },
          "metadata": {
            "tags": []
          },
          "execution_count": 49
        }
      ]
    },
    {
      "cell_type": "code",
      "metadata": {
        "colab": {
          "base_uri": "https://localhost:8080/"
        },
        "id": "NmtntPAufkWT",
        "outputId": "d45af88b-3447-4a05-95fe-83c570d2600d"
      },
      "source": [
        "grid.best_params_"
      ],
      "execution_count": null,
      "outputs": [
        {
          "output_type": "execute_result",
          "data": {
            "text/plain": [
              "{'C': 10, 'gamma': 0.1, 'kernel': 'rbf'}"
            ]
          },
          "metadata": {
            "tags": []
          },
          "execution_count": 50
        }
      ]
    },
    {
      "cell_type": "code",
      "metadata": {
        "colab": {
          "base_uri": "https://localhost:8080/"
        },
        "id": "iBQ7RGrEqmA5",
        "outputId": "653b014e-500b-47e1-ac88-7193590a9baf"
      },
      "source": [
        "grid.score(X_test, test_with_label['label'])"
      ],
      "execution_count": null,
      "outputs": [
        {
          "output_type": "execute_result",
          "data": {
            "text/plain": [
              "0.944392523364486"
            ]
          },
          "metadata": {
            "tags": []
          },
          "execution_count": 51
        }
      ]
    },
    {
      "cell_type": "code",
      "metadata": {
        "id": "wS-Y3E6nqrAt"
      },
      "source": [
        "from sklearn.metrics import confusion_matrix,classification_report"
      ],
      "execution_count": null,
      "outputs": []
    },
    {
      "cell_type": "code",
      "metadata": {
        "id": "P2Iu1Cn1sT0B"
      },
      "source": [
        "predictions = grid.predict(X_test)"
      ],
      "execution_count": null,
      "outputs": []
    },
    {
      "cell_type": "code",
      "metadata": {
        "colab": {
          "base_uri": "https://localhost:8080/"
        },
        "id": "9sw01guiun0J",
        "outputId": "25c7d334-7de7-42fd-9b38-c1d300542531"
      },
      "source": [
        "print(confusion_matrix(test_with_label['label'],predictions))"
      ],
      "execution_count": null,
      "outputs": [
        {
          "output_type": "stream",
          "text": [
            "[[ 948   72]\n",
            " [  47 1073]]\n"
          ],
          "name": "stdout"
        }
      ]
    },
    {
      "cell_type": "code",
      "metadata": {
        "colab": {
          "base_uri": "https://localhost:8080/"
        },
        "id": "X0IpJP_Wv3Zw",
        "outputId": "2d0072b8-6d7e-4cb1-d1f5-3651e62127b5"
      },
      "source": [
        "print(classification_report(test_with_label['label'],predictions))"
      ],
      "execution_count": null,
      "outputs": [
        {
          "output_type": "stream",
          "text": [
            "              precision    recall  f1-score   support\n",
            "\n",
            "           0       0.95      0.93      0.94      1020\n",
            "           1       0.94      0.96      0.95      1120\n",
            "\n",
            "    accuracy                           0.94      2140\n",
            "   macro avg       0.94      0.94      0.94      2140\n",
            "weighted avg       0.94      0.94      0.94      2140\n",
            "\n"
          ],
          "name": "stdout"
        }
      ]
    },
    {
      "cell_type": "code",
      "metadata": {
        "id": "jNoF3K1Gv_KQ"
      },
      "source": [
        "pred=PAC.predict(X_test)"
      ],
      "execution_count": null,
      "outputs": []
    },
    {
      "cell_type": "code",
      "metadata": {
        "colab": {
          "base_uri": "https://localhost:8080/"
        },
        "id": "cKxUvuFrygLX",
        "outputId": "4aed8180-d306-4c20-c081-8d44264456a3"
      },
      "source": [
        "print(confusion_matrix(test_with_label['label'],pred))"
      ],
      "execution_count": null,
      "outputs": [
        {
          "output_type": "stream",
          "text": [
            "[[ 951   69]\n",
            " [  47 1073]]\n"
          ],
          "name": "stdout"
        }
      ]
    },
    {
      "cell_type": "code",
      "metadata": {
        "colab": {
          "base_uri": "https://localhost:8080/"
        },
        "id": "QOHqxdZlyie7",
        "outputId": "99c97d2b-5f47-438b-9c12-c60045e8b1f1"
      },
      "source": [
        "print(classification_report(test_with_label['label'],pred))"
      ],
      "execution_count": null,
      "outputs": [
        {
          "output_type": "stream",
          "text": [
            "              precision    recall  f1-score   support\n",
            "\n",
            "           0       0.95      0.93      0.94      1020\n",
            "           1       0.94      0.96      0.95      1120\n",
            "\n",
            "    accuracy                           0.95      2140\n",
            "   macro avg       0.95      0.95      0.95      2140\n",
            "weighted avg       0.95      0.95      0.95      2140\n",
            "\n"
          ],
          "name": "stdout"
        }
      ]
    },
    {
      "cell_type": "code",
      "metadata": {
        "id": "EjDsKOloyqap"
      },
      "source": [
        ""
      ],
      "execution_count": null,
      "outputs": []
    }
  ]
}